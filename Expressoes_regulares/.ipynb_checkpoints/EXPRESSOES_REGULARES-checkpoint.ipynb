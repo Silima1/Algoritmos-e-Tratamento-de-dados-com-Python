{
 "cells": [
  {
   "cell_type": "markdown",
   "id": "9a0f261c",
   "metadata": {},
   "source": [
    "# FORMAS SOFISTICADAS DE LOCALIZACAO DE PALAVRAS"
   ]
  },
  {
   "cell_type": "code",
   "execution_count": 23,
   "id": "e948ef9e",
   "metadata": {},
   "outputs": [],
   "source": [
    "import re # Biblioteca para localizar carateres"
   ]
  },
  {
   "cell_type": "code",
   "execution_count": 32,
   "id": "a9a747d5",
   "metadata": {},
   "outputs": [],
   "source": [
    "frase = 'Ola, meu numero de telefone é (42) 0000 - 0000'"
   ]
  },
  {
   "cell_type": "code",
   "execution_count": 34,
   "id": "65539323",
   "metadata": {},
   "outputs": [],
   "source": [
    "# Mecanismos de localizacao \\para buscar ( \\d{2} para buscar 42...\n",
    "re.search('\\(\\d{2}\\)\\d{4,5}-\\d{4}', frase)"
   ]
  },
  {
   "cell_type": "code",
   "execution_count": 35,
   "id": "b541ae22",
   "metadata": {},
   "outputs": [],
   "source": [
    "frase1 = 'A placa de carro que eu anotei durante o acidente foi FRT-1998'"
   ]
  },
  {
   "cell_type": "code",
   "execution_count": 36,
   "id": "bb93d535",
   "metadata": {},
   "outputs": [],
   "source": [
    "re.search('\\(\\d[A-Za - z]{3}\\)-\\d{4}', frase1)"
   ]
  },
  {
   "cell_type": "code",
   "execution_count": 37,
   "id": "97d1eb8a",
   "metadata": {},
   "outputs": [],
   "source": [
    "email = 'Entre em conta, meu email eh teste@teste.com'"
   ]
  },
  {
   "cell_type": "code",
   "execution_count": 38,
   "id": "874ac746",
   "metadata": {},
   "outputs": [
    {
     "data": {
      "text/plain": [
       "<re.Match object; span=(29, 44), match='teste@teste.com'>"
      ]
     },
     "execution_count": 38,
     "metadata": {},
     "output_type": "execute_result"
    }
   ],
   "source": [
    "re.search('\\w+@\\w+\\.com', email)"
   ]
  },
  {
   "cell_type": "markdown",
   "id": "f6285150",
   "metadata": {},
   "source": [
    "# FUNCAO MATCH"
   ]
  },
  {
   "cell_type": "code",
   "execution_count": 40,
   "id": "35ae260e",
   "metadata": {},
   "outputs": [],
   "source": [
    "frase2 = 'A placa de carro que eu anotei durante a batida foi FRT-1998'"
   ]
  },
  {
   "cell_type": "code",
   "execution_count": 41,
   "id": "d2616488",
   "metadata": {},
   "outputs": [
    {
     "name": "stdout",
     "output_type": "stream",
     "text": [
      "None\n"
     ]
    }
   ],
   "source": [
    "#VERIFICA SE A EXPRESSAO REGULAR ESTA NO INICIO DA STR\n",
    "print(re.match('\\(\\d[A-Za - z]{3}\\)-\\d{4}', frase2))"
   ]
  },
  {
   "cell_type": "code",
   "execution_count": 42,
   "id": "b627ff12",
   "metadata": {},
   "outputs": [
    {
     "name": "stdout",
     "output_type": "stream",
     "text": [
      "None\n"
     ]
    }
   ],
   "source": [
    "frase3 = 'FRT eh a placa do carro'\n",
    "print(re.match('\\(\\d[A-Za - z]{3}\\)-\\d{4}', frase3))"
   ]
  },
  {
   "cell_type": "markdown",
   "id": "e41d704d",
   "metadata": {},
   "source": [
    "# FINDA ALL"
   ]
  },
  {
   "cell_type": "code",
   "execution_count": 43,
   "id": "fc10efa3",
   "metadata": {},
   "outputs": [
    {
     "data": {
      "text/plain": [
       "[]"
      ]
     },
     "execution_count": 43,
     "metadata": {},
     "output_type": "execute_result"
    }
   ],
   "source": [
    "re.findall('\\(\\d[A-Za - z]{3}\\)-\\d{4}', frase3)"
   ]
  },
  {
   "cell_type": "code",
   "execution_count": 44,
   "id": "50cf1a16",
   "metadata": {},
   "outputs": [],
   "source": [
    "emails = '''\n",
    "          Nome: teste 1\n",
    "          email: teste@teste.com\n",
    "          Nome: Teste 2\n",
    "          email: teste@teste.com\n",
    "          Nome: Teste 3\n",
    "          email: teste3@teste.com.pt          \n",
    "         '''"
   ]
  },
  {
   "cell_type": "code",
   "execution_count": 45,
   "id": "85cc58f2",
   "metadata": {},
   "outputs": [
    {
     "data": {
      "text/plain": [
       "['teste@teste', 'teste@teste', 'teste3@teste']"
      ]
     },
     "execution_count": 45,
     "metadata": {},
     "output_type": "execute_result"
    }
   ],
   "source": [
    "re.findall('\\w+@\\w+\\w*', emails) # utilizamos w* quando queremos localizar varios nomes com @"
   ]
  },
  {
   "cell_type": "code",
   "execution_count": 60,
   "id": "0abc86ca",
   "metadata": {},
   "outputs": [],
   "source": [
    "# EXERCICIO\n",
    "dadosP = '''\n",
    "          Numero: 92438901\n",
    "          email: teste@teste.com\n",
    "          NIF: 306736724\n",
    "          email: teste@teste.com\n",
    "          Nome: Teste 3\n",
    "          email: teste3@teste.com.pt   \n",
    "          site: https://lostec.com\n",
    "         '''"
   ]
  },
  {
   "cell_type": "code",
   "execution_count": 63,
   "id": "19a3719a",
   "metadata": {},
   "outputs": [
    {
     "data": {
      "text/plain": [
       "['http://lostec.com']"
      ]
     },
     "execution_count": 63,
     "metadata": {},
     "output_type": "execute_result"
    }
   ],
   "source": [
    "re.findall('https?://[A-Za-z0-9./]+', dadosP)"
   ]
  }
 ],
 "metadata": {
  "kernelspec": {
   "display_name": "Python 3 (ipykernel)",
   "language": "python",
   "name": "python3"
  },
  "language_info": {
   "codemirror_mode": {
    "name": "ipython",
    "version": 3
   },
   "file_extension": ".py",
   "mimetype": "text/x-python",
   "name": "python",
   "nbconvert_exporter": "python",
   "pygments_lexer": "ipython3",
   "version": "3.9.13"
  }
 },
 "nbformat": 4,
 "nbformat_minor": 5
}
