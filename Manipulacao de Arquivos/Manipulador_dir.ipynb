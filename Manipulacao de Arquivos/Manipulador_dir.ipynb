{
 "cells": [
  {
   "cell_type": "markdown",
   "id": "8e08af41",
   "metadata": {},
   "source": [
    "# Manipulador de arquivos"
   ]
  },
  {
   "cell_type": "code",
   "execution_count": 4,
   "id": "d52d1316",
   "metadata": {},
   "outputs": [
    {
     "name": "stdout",
     "output_type": "stream",
     "text": [
      "historia,divida,garantias,renda,risco\n",
      "\n",
      "ruim,alta,nenhuma,0_15,alto\n",
      "\n",
      "desconhecida,alta,nenhuma,15_35,alto\n",
      "\n",
      "desconhecida,baixa,nenhuma,15_35,moderado\n",
      "\n",
      "desconhecida,baixa,nenhuma,acima_35,alto\n",
      "\n",
      "desconhecida,baixa,nenhuma,acima_35,baixo\n",
      "\n",
      "desconhecida,baixa,adequada,acima_35,baixo\n",
      "\n",
      "ruim,baixa,nenhuma,0_15,alto\n",
      "\n",
      "ruim,baixa,adequada,acima_35,moderado\n",
      "\n",
      "boa,baixa,nenhuma,acima_35,baixo\n",
      "\n",
      "boa,alta,adequada,acima_35,baixo\n",
      "\n",
      "boa,alta,nenhuma,0_15,alto\n",
      "\n",
      "boa,alta,nenhuma,15_35,moderado\n",
      "\n",
      "boa,alta,nenhuma,acima_35,baixo\n",
      "\n",
      "ruim,alta,nenhuma,15_35,alto\n"
     ]
    }
   ],
   "source": [
    "# LEITURA DO ARQUIVO\n",
    "with open('../Dados/Bases_de_Dados/risco_credito.csv') as excel:\n",
    "    for i in excel:\n",
    "        print(i)"
   ]
  },
  {
   "cell_type": "code",
   "execution_count": 3,
   "id": "bc21bebc",
   "metadata": {},
   "outputs": [
    {
     "name": "stdout",
     "output_type": "stream",
     "text": [
      "['historia,divida,garantias,renda,risco\\n', 'ruim,alta,nenhuma,0_15,alto\\n', 'desconhecida,alta,nenhuma,15_35,alto\\n', 'desconhecida,baixa,nenhuma,15_35,moderado\\n', 'desconhecida,baixa,nenhuma,acima_35,alto\\n', 'desconhecida,baixa,nenhuma,acima_35,baixo\\n', 'desconhecida,baixa,adequada,acima_35,baixo\\n', 'ruim,baixa,nenhuma,0_15,alto\\n', 'ruim,baixa,adequada,acima_35,moderado\\n', 'boa,baixa,nenhuma,acima_35,baixo\\n', 'boa,alta,adequada,acima_35,baixo\\n', 'boa,alta,nenhuma,0_15,alto\\n', 'boa,alta,nenhuma,15_35,moderado\\n', 'boa,alta,nenhuma,acima_35,baixo\\n', 'ruim,alta,nenhuma,15_35,alto']\n"
     ]
    }
   ],
   "source": [
    "# PARA COLOCAR A INFORMACAO DO ARQUIVO NUMA LISTA\n",
    "with open('../Dados/Bases_de_Dados/risco_credito.csv') as excel:\n",
    "    r = excel.readlines()\n",
    "    print(r)"
   ]
  },
  {
   "cell_type": "code",
   "execution_count": 7,
   "id": "3456069f",
   "metadata": {},
   "outputs": [],
   "source": [
    "#CRIAR UM ARQUIVO\n",
    "with open('Arquivo.txt', mode = 'w') as word:\n",
    "    word.write(\"Teste de criacao de arquivos em python\")"
   ]
  },
  {
   "cell_type": "code",
   "execution_count": 11,
   "id": "7d59d79e",
   "metadata": {},
   "outputs": [
    {
     "name": "stdout",
     "output_type": "stream",
     "text": [
      "Teste de criacao de arquivos em python\n"
     ]
    }
   ],
   "source": [
    "# TESTE ABRINDO ARQUIVO CRIADO\n",
    "with open('Arquivo.txt', mode = 'r') as file:\n",
    "    for i in file:\n",
    "        print(i)"
   ]
  },
  {
   "cell_type": "markdown",
   "id": "3ef1535f",
   "metadata": {},
   "source": [
    "# Exercicios"
   ]
  },
  {
   "cell_type": "code",
   "execution_count": 22,
   "id": "4339a28b",
   "metadata": {},
   "outputs": [],
   "source": [
    "dic = {'Paulo': 10, 'Joao': 14, 'Pedro': 16, 'Emmanuel': 15}\n",
    "with open('Lista de alunos.txt', mode='w') as primeira:\n",
    "    for alunos, notas in dic.items():\n",
    "        primeira.write(f'{alunos}, {notas}\\n')"
   ]
  },
  {
   "cell_type": "code",
   "execution_count": 36,
   "id": "7cc80d10",
   "metadata": {},
   "outputs": [
    {
     "name": "stdout",
     "output_type": "stream",
     "text": [
      "Paulo, 10\n",
      "\n"
     ]
    }
   ],
   "source": [
    "with open('Lista de alunos.txt', mode='r') as primeira:\n",
    "    for i in primeira:\n",
    "        primeira.readlines()\n",
    "        print(i)"
   ]
  },
  {
   "cell_type": "code",
   "execution_count": null,
   "id": "654b5460",
   "metadata": {},
   "outputs": [],
   "source": []
  }
 ],
 "metadata": {
  "kernelspec": {
   "display_name": "Python 3 (ipykernel)",
   "language": "python",
   "name": "python3"
  },
  "language_info": {
   "codemirror_mode": {
    "name": "ipython",
    "version": 3
   },
   "file_extension": ".py",
   "mimetype": "text/x-python",
   "name": "python",
   "nbconvert_exporter": "python",
   "pygments_lexer": "ipython3",
   "version": "3.9.13"
  }
 },
 "nbformat": 4,
 "nbformat_minor": 5
}
