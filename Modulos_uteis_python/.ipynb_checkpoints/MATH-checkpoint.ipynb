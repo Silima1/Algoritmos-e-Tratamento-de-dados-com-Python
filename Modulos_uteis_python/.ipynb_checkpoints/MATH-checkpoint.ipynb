{
 "cells": [
  {
   "cell_type": "markdown",
   "id": "0af48315",
   "metadata": {},
   "source": [
    "# BIBLIOTECAS UTEIS EM PYTHON"
   ]
  },
  {
   "cell_type": "markdown",
   "id": "6e65303b",
   "metadata": {},
   "source": [
    "# Math\n",
    "* Esta biblioteca é muito utilizada para calculos matematicos, a seguir veresmos alguns exemplos"
   ]
  },
  {
   "cell_type": "code",
   "execution_count": 1,
   "id": "1ab1c573",
   "metadata": {},
   "outputs": [],
   "source": [
    "import math"
   ]
  },
  {
   "cell_type": "code",
   "execution_count": 2,
   "id": "0203f661",
   "metadata": {},
   "outputs": [
    {
     "data": {
      "text/plain": [
       "3.0"
      ]
     },
     "execution_count": 2,
     "metadata": {},
     "output_type": "execute_result"
    }
   ],
   "source": [
    "math.sqrt(9) # RAIZ QUADRADA DE 9"
   ]
  },
  {
   "cell_type": "code",
   "execution_count": 3,
   "id": "3577b04d",
   "metadata": {},
   "outputs": [
    {
     "data": {
      "text/plain": [
       "0.8509035245341184"
      ]
     },
     "execution_count": 3,
     "metadata": {},
     "output_type": "execute_result"
    }
   ],
   "source": [
    "math.sin(45)# SENO DE 45"
   ]
  },
  {
   "cell_type": "code",
   "execution_count": 4,
   "id": "e9e18443",
   "metadata": {},
   "outputs": [
    {
     "data": {
      "text/plain": [
       "0.5253219888177297"
      ]
     },
     "execution_count": 4,
     "metadata": {},
     "output_type": "execute_result"
    }
   ],
   "source": [
    "math.cos(45)# Cosseno de 45"
   ]
  },
  {
   "cell_type": "code",
   "execution_count": 5,
   "id": "38f0a5d7",
   "metadata": {},
   "outputs": [
    {
     "data": {
      "text/plain": [
       "4.29202967422018"
      ]
     },
     "execution_count": 5,
     "metadata": {},
     "output_type": "execute_result"
    }
   ],
   "source": [
    "math.log(1000, 5) # lagaritmo de 1000 com base 10. Lembrar que a base é importante"
   ]
  },
  {
   "cell_type": "code",
   "execution_count": 7,
   "id": "57ff580e",
   "metadata": {},
   "outputs": [
    {
     "data": {
      "text/plain": [
       "2.0"
      ]
     },
     "execution_count": 7,
     "metadata": {},
     "output_type": "execute_result"
    }
   ],
   "source": [
    "math.log(100, 10)"
   ]
  },
  {
   "cell_type": "markdown",
   "id": "aefb3e4d",
   "metadata": {},
   "source": [
    "# Datetime\n",
    "* É uma biblioteca utilizada para definição de datas e horas"
   ]
  },
  {
   "cell_type": "code",
   "execution_count": 9,
   "id": "689e44c4",
   "metadata": {},
   "outputs": [],
   "source": [
    "import datetime"
   ]
  },
  {
   "cell_type": "code",
   "execution_count": 10,
   "id": "fc283330",
   "metadata": {},
   "outputs": [
    {
     "data": {
      "text/plain": [
       "['MAXYEAR',\n",
       " 'MINYEAR',\n",
       " '__all__',\n",
       " '__builtins__',\n",
       " '__cached__',\n",
       " '__doc__',\n",
       " '__file__',\n",
       " '__loader__',\n",
       " '__name__',\n",
       " '__package__',\n",
       " '__spec__',\n",
       " 'date',\n",
       " 'datetime',\n",
       " 'datetime_CAPI',\n",
       " 'sys',\n",
       " 'time',\n",
       " 'timedelta',\n",
       " 'timezone',\n",
       " 'tzinfo']"
      ]
     },
     "execution_count": 10,
     "metadata": {},
     "output_type": "execute_result"
    }
   ],
   "source": [
    "dir(datetime)# Para verificar as funcoes desta bblioteca"
   ]
  },
  {
   "cell_type": "code",
   "execution_count": 17,
   "id": "287bc537",
   "metadata": {},
   "outputs": [
    {
     "data": {
      "text/plain": [
       "datetime.date(2023, 3, 9)"
      ]
     },
     "execution_count": 17,
     "metadata": {},
     "output_type": "execute_result"
    }
   ],
   "source": [
    "datetime.date.today() # Data actual"
   ]
  },
  {
   "cell_type": "code",
   "execution_count": 20,
   "id": "6a2cbda1",
   "metadata": {},
   "outputs": [
    {
     "data": {
      "text/plain": [
       "datetime.datetime(2023, 3, 9, 22, 23, 56, 887034)"
      ]
     },
     "execution_count": 20,
     "metadata": {},
     "output_type": "execute_result"
    }
   ],
   "source": [
    "datetime.datetime.now()# Hora atual"
   ]
  },
  {
   "cell_type": "code",
   "execution_count": 26,
   "id": "6d5678a9",
   "metadata": {},
   "outputs": [],
   "source": [
    "# CRIAR UMA VARIAVEL E ATRIBUIR FORMATO DE DATA\n",
    "data = datetime.date(2023, 3, 9)"
   ]
  },
  {
   "cell_type": "code",
   "execution_count": 29,
   "id": "0568d366",
   "metadata": {},
   "outputs": [
    {
     "data": {
      "text/plain": [
       "datetime.date(2023, 3, 9)"
      ]
     },
     "execution_count": 29,
     "metadata": {},
     "output_type": "execute_result"
    }
   ],
   "source": [
    "data"
   ]
  },
  {
   "cell_type": "code",
   "execution_count": 30,
   "id": "875a6883",
   "metadata": {},
   "outputs": [
    {
     "data": {
      "text/plain": [
       "3"
      ]
     },
     "execution_count": 30,
     "metadata": {},
     "output_type": "execute_result"
    }
   ],
   "source": [
    "data.month"
   ]
  },
  {
   "cell_type": "code",
   "execution_count": 31,
   "id": "0cd5572e",
   "metadata": {},
   "outputs": [
    {
     "data": {
      "text/plain": [
       "9"
      ]
     },
     "execution_count": 31,
     "metadata": {},
     "output_type": "execute_result"
    }
   ],
   "source": [
    "data.day"
   ]
  },
  {
   "cell_type": "code",
   "execution_count": 32,
   "id": "00740f64",
   "metadata": {},
   "outputs": [
    {
     "data": {
      "text/plain": [
       "2023"
      ]
     },
     "execution_count": 32,
     "metadata": {},
     "output_type": "execute_result"
    }
   ],
   "source": [
    "data.year"
   ]
  },
  {
   "cell_type": "code",
   "execution_count": 41,
   "id": "0c3ac3b4",
   "metadata": {},
   "outputs": [],
   "source": [
    "horario = datetime.datetime(2023, 3, 9, 10, 32, 0)"
   ]
  },
  {
   "cell_type": "code",
   "execution_count": 42,
   "id": "c7f86ef9",
   "metadata": {},
   "outputs": [
    {
     "data": {
      "text/plain": [
       "datetime.datetime(2023, 3, 9, 10, 32)"
      ]
     },
     "execution_count": 42,
     "metadata": {},
     "output_type": "execute_result"
    }
   ],
   "source": [
    "horario"
   ]
  },
  {
   "cell_type": "code",
   "execution_count": 44,
   "id": "0fb3a530",
   "metadata": {},
   "outputs": [
    {
     "data": {
      "text/plain": [
       "datetime.datetime(2023, 3, 9, 22, 34, 17, 350600)"
      ]
     },
     "execution_count": 44,
     "metadata": {},
     "output_type": "execute_result"
    }
   ],
   "source": [
    "horario.now()"
   ]
  },
  {
   "cell_type": "code",
   "execution_count": 45,
   "id": "99bdb793",
   "metadata": {},
   "outputs": [
    {
     "data": {
      "text/plain": [
       "datetime.date(2023, 3, 9)"
      ]
     },
     "execution_count": 45,
     "metadata": {},
     "output_type": "execute_result"
    }
   ],
   "source": [
    "horario.date()"
   ]
  },
  {
   "cell_type": "code",
   "execution_count": 47,
   "id": "9dd04ac6",
   "metadata": {},
   "outputs": [
    {
     "data": {
      "text/plain": [
       "10"
      ]
     },
     "execution_count": 47,
     "metadata": {},
     "output_type": "execute_result"
    }
   ],
   "source": [
    "horario.hour"
   ]
  },
  {
   "cell_type": "code",
   "execution_count": 48,
   "id": "e9c580f2",
   "metadata": {},
   "outputs": [
    {
     "data": {
      "text/plain": [
       "32"
      ]
     },
     "execution_count": 48,
     "metadata": {},
     "output_type": "execute_result"
    }
   ],
   "source": [
    "horario.minute"
   ]
  },
  {
   "cell_type": "markdown",
   "id": "0ecdcd11",
   "metadata": {},
   "source": [
    "# RANDOM\n",
    "* Esta biblioteca é utilizada para gerar numero randomicos ou aleatorios"
   ]
  },
  {
   "cell_type": "code",
   "execution_count": 50,
   "id": "0cd3239b",
   "metadata": {},
   "outputs": [],
   "source": [
    "import random"
   ]
  },
  {
   "cell_type": "code",
   "execution_count": 52,
   "id": "255e87ef",
   "metadata": {},
   "outputs": [
    {
     "data": {
      "text/plain": [
       "0.008562783256134798"
      ]
     },
     "execution_count": 52,
     "metadata": {},
     "output_type": "execute_result"
    }
   ],
   "source": [
    "random.random() # PARA GERAR NUMEROS ALEATORIOS - que altera cada vez k executamos a linha"
   ]
  },
  {
   "cell_type": "code",
   "execution_count": 61,
   "id": "3030ce3f",
   "metadata": {},
   "outputs": [
    {
     "data": {
      "text/plain": [
       "10"
      ]
     },
     "execution_count": 61,
     "metadata": {},
     "output_type": "execute_result"
    }
   ],
   "source": [
    "random.randint(1, 10)# Gerar numeros dentro do intervalo predefinido"
   ]
  },
  {
   "cell_type": "code",
   "execution_count": 65,
   "id": "871d52f9",
   "metadata": {},
   "outputs": [
    {
     "data": {
      "text/plain": [
       "0"
      ]
     },
     "execution_count": 65,
     "metadata": {},
     "output_type": "execute_result"
    }
   ],
   "source": [
    "random.randrange(0, 10, 2)# GERAR NUMEROS PARES NUM INTERVALO PRE-DEFINIDO"
   ]
  },
  {
   "cell_type": "code",
   "execution_count": 70,
   "id": "911d68a8",
   "metadata": {},
   "outputs": [
    {
     "data": {
      "text/plain": [
       "6"
      ]
     },
     "execution_count": 70,
     "metadata": {},
     "output_type": "execute_result"
    }
   ],
   "source": [
    "random.randrange(0, 10, 3)# GERAR NUMEROS IMPARES"
   ]
  },
  {
   "cell_type": "code",
   "execution_count": 71,
   "id": "2c2aa5ef",
   "metadata": {},
   "outputs": [],
   "source": [
    "# Criar uma lista de sorteio\n",
    "x = ['K', 'd', 13, '34-j', 'x']"
   ]
  },
  {
   "cell_type": "code",
   "execution_count": 76,
   "id": "2e4ba9f3",
   "metadata": {},
   "outputs": [
    {
     "data": {
      "text/plain": [
       "'d'"
      ]
     },
     "execution_count": 76,
     "metadata": {},
     "output_type": "execute_result"
    }
   ],
   "source": [
    "random.choice(x)"
   ]
  },
  {
   "cell_type": "markdown",
   "id": "50d2a9c1",
   "metadata": {},
   "source": [
    "# TIME\n",
    "* É UMA BIBLIOTECA UTILIZA PARA MEDIR O TEMPO DE EXECUCAO DE UMA FUNCAO OU CODIGO"
   ]
  },
  {
   "cell_type": "code",
   "execution_count": 77,
   "id": "c26d1c04",
   "metadata": {},
   "outputs": [],
   "source": [
    "import time as tm"
   ]
  },
  {
   "cell_type": "code",
   "execution_count": 79,
   "id": "9064a96d",
   "metadata": {},
   "outputs": [
    {
     "data": {
      "text/plain": [
       "1678398988.9502106"
      ]
     },
     "execution_count": 79,
     "metadata": {},
     "output_type": "execute_result"
    }
   ],
   "source": [
    "tm.time()"
   ]
  },
  {
   "cell_type": "code",
   "execution_count": 80,
   "id": "300a0d8e",
   "metadata": {},
   "outputs": [],
   "source": [
    "antes = tm.time()\n",
    "lista = []\n",
    "for i in range (0, 10000):\n",
    "    lista.append(i)\n",
    "depois = tm.time()"
   ]
  },
  {
   "cell_type": "code",
   "execution_count": 87,
   "id": "0cf6bc3d",
   "metadata": {},
   "outputs": [
    {
     "name": "stdout",
     "output_type": "stream",
     "text": [
      "Tempo: 0.004019021987915039 segundos, \n",
      " Fim da execucao\n"
     ]
    }
   ],
   "source": [
    "intervalo = depois - antes\n",
    "print(f'Tempo: {intervalo} segundos, \\n Fim da execucao')\n",
    "tm.sleep(2)\n"
   ]
  },
  {
   "cell_type": "code",
   "execution_count": null,
   "id": "1955c97c",
   "metadata": {},
   "outputs": [],
   "source": []
  }
 ],
 "metadata": {
  "kernelspec": {
   "display_name": "Python 3 (ipykernel)",
   "language": "python",
   "name": "python3"
  },
  "language_info": {
   "codemirror_mode": {
    "name": "ipython",
    "version": 3
   },
   "file_extension": ".py",
   "mimetype": "text/x-python",
   "name": "python",
   "nbconvert_exporter": "python",
   "pygments_lexer": "ipython3",
   "version": "3.9.13"
  }
 },
 "nbformat": 4,
 "nbformat_minor": 5
}
