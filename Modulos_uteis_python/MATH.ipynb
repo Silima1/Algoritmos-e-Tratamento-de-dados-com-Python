{
 "cells": [
  {
   "cell_type": "markdown",
   "id": "f847d05d",
   "metadata": {},
   "source": [
    "# BIBLIOTECAS UTEIS EM PYTHON"
   ]
  },
  {
   "cell_type": "markdown",
   "id": "b2051341",
   "metadata": {},
   "source": [
    "# Math\n",
    "* Esta biblioteca é muito utilizada para calculos matematicos, a seguir veresmos alguns exemplos"
   ]
  },
  {
   "cell_type": "code",
   "execution_count": 1,
   "id": "bfdb41a7",
   "metadata": {},
   "outputs": [],
   "source": [
    "import math"
   ]
  },
  {
   "cell_type": "code",
   "execution_count": 2,
   "id": "72354aa6",
   "metadata": {},
   "outputs": [
    {
     "data": {
      "text/plain": [
       "3.0"
      ]
     },
     "execution_count": 2,
     "metadata": {},
     "output_type": "execute_result"
    }
   ],
   "source": [
    "math.sqrt(9) # RAIZ QUADRADA DE 9"
   ]
  },
  {
   "cell_type": "code",
   "execution_count": 3,
   "id": "0892d606",
   "metadata": {},
   "outputs": [
    {
     "data": {
      "text/plain": [
       "0.8509035245341184"
      ]
     },
     "execution_count": 3,
     "metadata": {},
     "output_type": "execute_result"
    }
   ],
   "source": [
    "math.sin(45)# SENO DE 45"
   ]
  },
  {
   "cell_type": "code",
   "execution_count": 4,
   "id": "6e2e552f",
   "metadata": {},
   "outputs": [
    {
     "data": {
      "text/plain": [
       "0.5253219888177297"
      ]
     },
     "execution_count": 4,
     "metadata": {},
     "output_type": "execute_result"
    }
   ],
   "source": [
    "math.cos(45)# Cosseno de 45"
   ]
  },
  {
   "cell_type": "code",
   "execution_count": 5,
   "id": "37b3087c",
   "metadata": {},
   "outputs": [
    {
     "data": {
      "text/plain": [
       "4.29202967422018"
      ]
     },
     "execution_count": 5,
     "metadata": {},
     "output_type": "execute_result"
    }
   ],
   "source": [
    "math.log(1000, 5) # lagaritmo de 1000 com base 10. Lembrar que a base é importante"
   ]
  },
  {
   "cell_type": "code",
   "execution_count": 7,
   "id": "def6ea82",
   "metadata": {},
   "outputs": [
    {
     "data": {
      "text/plain": [
       "2.0"
      ]
     },
     "execution_count": 7,
     "metadata": {},
     "output_type": "execute_result"
    }
   ],
   "source": [
    "math.log(100, 10)"
   ]
  },
  {
   "cell_type": "markdown",
   "id": "994dfa18",
   "metadata": {},
   "source": [
    "# Datetime\n",
    "* É uma biblioteca utilizada para definição de datas e horas"
   ]
  },
  {
   "cell_type": "code",
   "execution_count": 9,
   "id": "fcf021a3",
   "metadata": {},
   "outputs": [],
   "source": [
    "import datetime"
   ]
  },
  {
   "cell_type": "code",
   "execution_count": 10,
   "id": "14abc6bd",
   "metadata": {},
   "outputs": [
    {
     "data": {
      "text/plain": [
       "['MAXYEAR',\n",
       " 'MINYEAR',\n",
       " '__all__',\n",
       " '__builtins__',\n",
       " '__cached__',\n",
       " '__doc__',\n",
       " '__file__',\n",
       " '__loader__',\n",
       " '__name__',\n",
       " '__package__',\n",
       " '__spec__',\n",
       " 'date',\n",
       " 'datetime',\n",
       " 'datetime_CAPI',\n",
       " 'sys',\n",
       " 'time',\n",
       " 'timedelta',\n",
       " 'timezone',\n",
       " 'tzinfo']"
      ]
     },
     "execution_count": 10,
     "metadata": {},
     "output_type": "execute_result"
    }
   ],
   "source": [
    "dir(datetime)# Para verificar as funcoes desta bblioteca"
   ]
  },
  {
   "cell_type": "code",
   "execution_count": 17,
   "id": "e7c004db",
   "metadata": {},
   "outputs": [
    {
     "data": {
      "text/plain": [
       "datetime.date(2023, 3, 9)"
      ]
     },
     "execution_count": 17,
     "metadata": {},
     "output_type": "execute_result"
    }
   ],
   "source": [
    "datetime.date.today() # Data actual"
   ]
  },
  {
   "cell_type": "code",
   "execution_count": 20,
   "id": "d68bf409",
   "metadata": {},
   "outputs": [
    {
     "data": {
      "text/plain": [
       "datetime.datetime(2023, 3, 9, 22, 23, 56, 887034)"
      ]
     },
     "execution_count": 20,
     "metadata": {},
     "output_type": "execute_result"
    }
   ],
   "source": [
    "datetime.datetime.now()# Hora atual"
   ]
  },
  {
   "cell_type": "code",
   "execution_count": 26,
   "id": "e85bbe99",
   "metadata": {},
   "outputs": [],
   "source": [
    "# CRIAR UMA VARIAVEL E ATRIBUIR FORMATO DE DATA\n",
    "data = datetime.date(2023, 3, 9)"
   ]
  },
  {
   "cell_type": "code",
   "execution_count": 29,
   "id": "42cd884c",
   "metadata": {},
   "outputs": [
    {
     "data": {
      "text/plain": [
       "datetime.date(2023, 3, 9)"
      ]
     },
     "execution_count": 29,
     "metadata": {},
     "output_type": "execute_result"
    }
   ],
   "source": [
    "data"
   ]
  },
  {
   "cell_type": "code",
   "execution_count": 30,
   "id": "64adab5f",
   "metadata": {},
   "outputs": [
    {
     "data": {
      "text/plain": [
       "3"
      ]
     },
     "execution_count": 30,
     "metadata": {},
     "output_type": "execute_result"
    }
   ],
   "source": [
    "data.month"
   ]
  },
  {
   "cell_type": "code",
   "execution_count": 31,
   "id": "5509c314",
   "metadata": {},
   "outputs": [
    {
     "data": {
      "text/plain": [
       "9"
      ]
     },
     "execution_count": 31,
     "metadata": {},
     "output_type": "execute_result"
    }
   ],
   "source": [
    "data.day"
   ]
  },
  {
   "cell_type": "code",
   "execution_count": 32,
   "id": "70b49342",
   "metadata": {},
   "outputs": [
    {
     "data": {
      "text/plain": [
       "2023"
      ]
     },
     "execution_count": 32,
     "metadata": {},
     "output_type": "execute_result"
    }
   ],
   "source": [
    "data.year"
   ]
  },
  {
   "cell_type": "code",
   "execution_count": 41,
   "id": "ccd1e903",
   "metadata": {},
   "outputs": [],
   "source": [
    "horario = datetime.datetime(2023, 3, 9, 10, 32, 0)"
   ]
  },
  {
   "cell_type": "code",
   "execution_count": 42,
   "id": "a40f278c",
   "metadata": {},
   "outputs": [
    {
     "data": {
      "text/plain": [
       "datetime.datetime(2023, 3, 9, 10, 32)"
      ]
     },
     "execution_count": 42,
     "metadata": {},
     "output_type": "execute_result"
    }
   ],
   "source": [
    "horario"
   ]
  },
  {
   "cell_type": "code",
   "execution_count": 44,
   "id": "ebda8d2a",
   "metadata": {},
   "outputs": [
    {
     "data": {
      "text/plain": [
       "datetime.datetime(2023, 3, 9, 22, 34, 17, 350600)"
      ]
     },
     "execution_count": 44,
     "metadata": {},
     "output_type": "execute_result"
    }
   ],
   "source": [
    "horario.now()"
   ]
  },
  {
   "cell_type": "code",
   "execution_count": 45,
   "id": "05147903",
   "metadata": {},
   "outputs": [
    {
     "data": {
      "text/plain": [
       "datetime.date(2023, 3, 9)"
      ]
     },
     "execution_count": 45,
     "metadata": {},
     "output_type": "execute_result"
    }
   ],
   "source": [
    "horario.date()"
   ]
  },
  {
   "cell_type": "code",
   "execution_count": 47,
   "id": "6654564d",
   "metadata": {},
   "outputs": [
    {
     "data": {
      "text/plain": [
       "10"
      ]
     },
     "execution_count": 47,
     "metadata": {},
     "output_type": "execute_result"
    }
   ],
   "source": [
    "horario.hour"
   ]
  },
  {
   "cell_type": "code",
   "execution_count": 48,
   "id": "4b024345",
   "metadata": {},
   "outputs": [
    {
     "data": {
      "text/plain": [
       "32"
      ]
     },
     "execution_count": 48,
     "metadata": {},
     "output_type": "execute_result"
    }
   ],
   "source": [
    "horario.minute"
   ]
  },
  {
   "cell_type": "markdown",
   "id": "d11ae060",
   "metadata": {},
   "source": [
    "# RANDOM\n",
    "* Esta biblioteca é utilizada para gerar numero randomicos ou aleatorios"
   ]
  },
  {
   "cell_type": "code",
   "execution_count": 50,
   "id": "59f7967a",
   "metadata": {},
   "outputs": [],
   "source": [
    "import random"
   ]
  },
  {
   "cell_type": "code",
   "execution_count": 52,
   "id": "b932fc5c",
   "metadata": {},
   "outputs": [
    {
     "data": {
      "text/plain": [
       "0.008562783256134798"
      ]
     },
     "execution_count": 52,
     "metadata": {},
     "output_type": "execute_result"
    }
   ],
   "source": [
    "random.random() # PARA GERAR NUMEROS ALEATORIOS - que altera cada vez k executamos a linha"
   ]
  },
  {
   "cell_type": "code",
   "execution_count": 61,
   "id": "d80ac66f",
   "metadata": {},
   "outputs": [
    {
     "data": {
      "text/plain": [
       "10"
      ]
     },
     "execution_count": 61,
     "metadata": {},
     "output_type": "execute_result"
    }
   ],
   "source": [
    "random.randint(1, 10)# Gerar numeros dentro do intervalo predefinido"
   ]
  },
  {
   "cell_type": "code",
   "execution_count": 65,
   "id": "2f8bf92b",
   "metadata": {},
   "outputs": [
    {
     "data": {
      "text/plain": [
       "0"
      ]
     },
     "execution_count": 65,
     "metadata": {},
     "output_type": "execute_result"
    }
   ],
   "source": [
    "random.randrange(0, 10, 2)# GERAR NUMEROS PARES NUM INTERVALO PRE-DEFINIDO"
   ]
  },
  {
   "cell_type": "code",
   "execution_count": 70,
   "id": "554b3fe4",
   "metadata": {},
   "outputs": [
    {
     "data": {
      "text/plain": [
       "6"
      ]
     },
     "execution_count": 70,
     "metadata": {},
     "output_type": "execute_result"
    }
   ],
   "source": [
    "random.randrange(0, 10, 3)# GERAR NUMEROS IMPARES"
   ]
  },
  {
   "cell_type": "code",
   "execution_count": 71,
   "id": "a784efbb",
   "metadata": {},
   "outputs": [],
   "source": [
    "# Criar uma lista de sorteio\n",
    "x = ['K', 'd', 13, '34-j', 'x']"
   ]
  },
  {
   "cell_type": "code",
   "execution_count": 76,
   "id": "e25f66b0",
   "metadata": {},
   "outputs": [
    {
     "data": {
      "text/plain": [
       "'d'"
      ]
     },
     "execution_count": 76,
     "metadata": {},
     "output_type": "execute_result"
    }
   ],
   "source": [
    "random.choice(x)"
   ]
  },
  {
   "cell_type": "markdown",
   "id": "864294ab",
   "metadata": {},
   "source": [
    "# TIME\n",
    "* É UMA BIBLIOTECA UTILIZA PARA MEDIR O TEMPO DE EXECUCAO DE UMA FUNCAO OU CODIGO"
   ]
  },
  {
   "cell_type": "code",
   "execution_count": 77,
   "id": "987ae3b8",
   "metadata": {},
   "outputs": [],
   "source": [
    "import time as tm"
   ]
  },
  {
   "cell_type": "code",
   "execution_count": 79,
   "id": "10c1045e",
   "metadata": {},
   "outputs": [
    {
     "data": {
      "text/plain": [
       "1678398988.9502106"
      ]
     },
     "execution_count": 79,
     "metadata": {},
     "output_type": "execute_result"
    }
   ],
   "source": [
    "tm.time()"
   ]
  },
  {
   "cell_type": "code",
   "execution_count": 80,
   "id": "dcd74684",
   "metadata": {},
   "outputs": [],
   "source": [
    "antes = tm.time()\n",
    "lista = []\n",
    "for i in range (0, 10000):\n",
    "    lista.append(i)\n",
    "depois = tm.time()"
   ]
  },
  {
   "cell_type": "code",
   "execution_count": 87,
   "id": "449823e6",
   "metadata": {},
   "outputs": [
    {
     "name": "stdout",
     "output_type": "stream",
     "text": [
      "Tempo: 0.004019021987915039 segundos, \n",
      " Fim da execucao\n"
     ]
    }
   ],
   "source": [
    "intervalo = depois - antes\n",
    "print(f'Tempo: {intervalo} segundos, \\n Fim da execucao')\n",
    "tm.sleep(2)\n"
   ]
  }
 ],
 "metadata": {
  "kernelspec": {
   "display_name": "Python 3 (ipykernel)",
   "language": "python",
   "name": "python3"
  },
  "language_info": {
   "codemirror_mode": {
    "name": "ipython",
    "version": 3
   },
   "file_extension": ".py",
   "mimetype": "text/x-python",
   "name": "python",
   "nbconvert_exporter": "python",
   "pygments_lexer": "ipython3",
   "version": "3.9.13"
  }
 },
 "nbformat": 4,
 "nbformat_minor": 5
}
