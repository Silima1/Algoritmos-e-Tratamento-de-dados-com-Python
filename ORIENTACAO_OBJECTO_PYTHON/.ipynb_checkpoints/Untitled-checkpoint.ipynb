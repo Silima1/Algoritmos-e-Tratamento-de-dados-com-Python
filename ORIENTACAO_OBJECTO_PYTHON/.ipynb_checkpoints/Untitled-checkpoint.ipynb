{
 "cells": [
  {
   "cell_type": "markdown",
   "id": "e09727e7",
   "metadata": {},
   "source": [
    "# ORIENTACAO A OBJETO EM PYTHON"
   ]
  },
  {
   "cell_type": "code",
   "execution_count": 22,
   "id": "c6332155",
   "metadata": {},
   "outputs": [],
   "source": [
    "class Triangulo:# A classe define a estrutura princilpal dos objetos posteriormente a criar\n",
    "    def __init__(self, lado1, lado2, lado3, base, altura): # SELF EH PADRAO PARA DEFINIR ATRIBUTOS DO OBJETO e init eh Um construtor\n",
    "        self.lado1 = lado1\n",
    "        self.lado2 = lado2\n",
    "        self.lado3 = lado3\n",
    "        self.base = base\n",
    "        self.altura = altura\n",
    "    def area (self):\n",
    "        return (self.base * self.altura)/2\n",
    "    \n",
    "    def tipo(self):\n",
    "        if self.lado1 > self.lado2+self.lado3:\n",
    "            return'Nao é um triangulo'\n",
    "        elif self.lado1 == self.lado2 and self.lado2 == self.lado3:\n",
    "            return'E um tringulo equilatero'\n",
    "        elif self.lado1 == self.lado2 < self.lado3:\n",
    "            return'triangulo escaleno'\n",
    "        elif self.lado1 > self.lado2 and self.lado2 != self.lado3:\n",
    "            return'triangulo isoceles'                 "
   ]
  },
  {
   "cell_type": "code",
   "execution_count": 23,
   "id": "8f843ec6",
   "metadata": {},
   "outputs": [],
   "source": [
    "# CRIACAO DUM OBJETO APARTIR DA ESTRUTURA DA CLASS\n",
    "t1 = Triangulo(5, 5, 5, 4, 3)"
   ]
  },
  {
   "cell_type": "code",
   "execution_count": 24,
   "id": "70acb937",
   "metadata": {},
   "outputs": [
    {
     "name": "stdout",
     "output_type": "stream",
     "text": [
      "o lado 1 = 5 \n",
      " lado2 = 5 \n",
      " lado3 = 5 \n",
      " base = 4 \n",
      "e a altura = 3 \n",
      "\n"
     ]
    }
   ],
   "source": [
    "print(f'o lado 1 = {t1.lado1} \\n lado2 = {t1.lado2} \\n lado3 = {t1.lado3} \\n base = {t1.base} \\ne a altura = {t1.altura} \\n')"
   ]
  },
  {
   "cell_type": "code",
   "execution_count": 25,
   "id": "a219aad9",
   "metadata": {},
   "outputs": [
    {
     "name": "stdout",
     "output_type": "stream",
     "text": [
      "3 3 5 6 7\n"
     ]
    }
   ],
   "source": [
    "t2 = Triangulo (3, 3, 5, 6, 7) # SEGUDO OBJETO\n",
    "print(t2.lado1, t2.lado2, t2.lado3, t2.base, t2.altura)"
   ]
  },
  {
   "cell_type": "code",
   "execution_count": 26,
   "id": "95ed6374",
   "metadata": {},
   "outputs": [
    {
     "data": {
      "text/plain": [
       "6.0"
      ]
     },
     "execution_count": 26,
     "metadata": {},
     "output_type": "execute_result"
    }
   ],
   "source": [
    "t1.area()"
   ]
  },
  {
   "cell_type": "code",
   "execution_count": 27,
   "id": "0778cd2b",
   "metadata": {},
   "outputs": [
    {
     "data": {
      "text/plain": [
       "21.0"
      ]
     },
     "execution_count": 27,
     "metadata": {},
     "output_type": "execute_result"
    }
   ],
   "source": [
    "t2.area()"
   ]
  },
  {
   "cell_type": "code",
   "execution_count": 28,
   "id": "5a75023e",
   "metadata": {},
   "outputs": [
    {
     "data": {
      "text/plain": [
       "'E um tringulo equilatero'"
      ]
     },
     "execution_count": 28,
     "metadata": {},
     "output_type": "execute_result"
    }
   ],
   "source": [
    "t1.tipo()"
   ]
  },
  {
   "cell_type": "code",
   "execution_count": 29,
   "id": "3691001e",
   "metadata": {},
   "outputs": [
    {
     "data": {
      "text/plain": [
       "'triangulo escaleno'"
      ]
     },
     "execution_count": 29,
     "metadata": {},
     "output_type": "execute_result"
    }
   ],
   "source": [
    "t2.tipo()"
   ]
  },
  {
   "cell_type": "markdown",
   "id": "fc8f3958",
   "metadata": {},
   "source": [
    "# EXERCICIO"
   ]
  },
  {
   "cell_type": "code",
   "execution_count": 47,
   "id": "4689def1",
   "metadata": {},
   "outputs": [],
   "source": [
    "class aluno:\n",
    "    def __init__(self, Nome, Nota1, Nota2):\n",
    "        self.Nome = Nome\n",
    "        self.Nota1 = Nota1\n",
    "        self.Nota2 = Nota2\n",
    "        self.media = 0.0\n",
    "        \n",
    "    def calc_media(self):\n",
    "        self.media = (self.Nota1+self.Nota2)/2\n",
    "        return self.media\n",
    "    \n",
    "    def resultado(self):\n",
    "        if self.media >= 9:\n",
    "            return 'Reprovado'\n",
    "        else: \n",
    "            return 'Aprovado'"
   ]
  },
  {
   "cell_type": "code",
   "execution_count": null,
   "id": "172ffa00",
   "metadata": {},
   "outputs": [],
   "source": [
    "primeiro = aluno(str(input('Nome do aluno: ')), int(input('Digite a nota: ')), int(input('Digite a nota de defesa: ')))\n",
    "media = primeiro.calc_media()\n",
    "print(f'Nome do aluno: {primeiro.Nome}\\n Nota de frequencia: {primeiro.Nota1}\\n Nota de defesa: {primeiro.Nota2}\\n A media eh: {media}')"
   ]
  },
  {
   "cell_type": "code",
   "execution_count": 55,
   "id": "4b083c16",
   "metadata": {},
   "outputs": [
    {
     "name": "stdout",
     "output_type": "stream",
     "text": [
      "Nome do aluno: Ilidio\n",
      "Digite a nota: 18\n",
      "Digite a nota de defesa: 19\n",
      "Nome do aluno: Ilidio\n",
      " Nota de frequencia: 18\n",
      " Nota de defesa: 19\n",
      " A media eh: 18.5\n"
     ]
    }
   ],
   "source": [
    "segundo = aluno(str(input('Nome do aluno: ')), int(input('Digite a nota: ')), int(input('Digite a nota de defesa: ')))\n",
    "media = primeiro.calc_media()\n",
    "print(f'Nome do aluno: {segundo.Nome}\\n Nota de frequencia: {segundo.Nota1}\\n Nota de defesa: {segundo.Nota2}\\n A media eh: {media}')"
   ]
  },
  {
   "cell_type": "code",
   "execution_count": 56,
   "id": "cc1074ec",
   "metadata": {},
   "outputs": [
    {
     "data": {
      "text/plain": [
       "'Reprovado'"
      ]
     },
     "execution_count": 56,
     "metadata": {},
     "output_type": "execute_result"
    }
   ],
   "source": [
    "primeiro.resultado()"
   ]
  },
  {
   "cell_type": "code",
   "execution_count": 59,
   "id": "65484ee1",
   "metadata": {},
   "outputs": [
    {
     "data": {
      "text/plain": [
       "'Aprovado'"
      ]
     },
     "execution_count": 59,
     "metadata": {},
     "output_type": "execute_result"
    }
   ],
   "source": [
    "segundo.resultado()"
   ]
  }
 ],
 "metadata": {
  "kernelspec": {
   "display_name": "Python 3 (ipykernel)",
   "language": "python",
   "name": "python3"
  },
  "language_info": {
   "codemirror_mode": {
    "name": "ipython",
    "version": 3
   },
   "file_extension": ".py",
   "mimetype": "text/x-python",
   "name": "python",
   "nbconvert_exporter": "python",
   "pygments_lexer": "ipython3",
   "version": "3.9.13"
  }
 },
 "nbformat": 4,
 "nbformat_minor": 5
}
