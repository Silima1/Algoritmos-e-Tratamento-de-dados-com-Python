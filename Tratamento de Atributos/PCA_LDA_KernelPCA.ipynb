{
 "cells": [
  {
   "cell_type": "markdown",
   "id": "087364a8",
   "metadata": {},
   "source": [
    "# REDUCAO DA DIMENSIONALIDADE COM PCA"
   ]
  },
  {
   "cell_type": "code",
   "execution_count": 1,
   "id": "6bc027b0",
   "metadata": {},
   "outputs": [
    {
     "data": {
      "text/html": [
       "<div>\n",
       "<style scoped>\n",
       "    .dataframe tbody tr th:only-of-type {\n",
       "        vertical-align: middle;\n",
       "    }\n",
       "\n",
       "    .dataframe tbody tr th {\n",
       "        vertical-align: top;\n",
       "    }\n",
       "\n",
       "    .dataframe thead th {\n",
       "        text-align: right;\n",
       "    }\n",
       "</style>\n",
       "<table border=\"1\" class=\"dataframe\">\n",
       "  <thead>\n",
       "    <tr style=\"text-align: right;\">\n",
       "      <th></th>\n",
       "      <th>age</th>\n",
       "      <th>workclass</th>\n",
       "      <th>final-weight</th>\n",
       "      <th>education</th>\n",
       "      <th>education-num</th>\n",
       "      <th>marital-status</th>\n",
       "      <th>occupation</th>\n",
       "      <th>relationship</th>\n",
       "      <th>race</th>\n",
       "      <th>sex</th>\n",
       "      <th>capital-gain</th>\n",
       "      <th>capital-loos</th>\n",
       "      <th>hour-per-week</th>\n",
       "      <th>native-country</th>\n",
       "      <th>income</th>\n",
       "    </tr>\n",
       "  </thead>\n",
       "  <tbody>\n",
       "    <tr>\n",
       "      <th>0</th>\n",
       "      <td>39</td>\n",
       "      <td>State-gov</td>\n",
       "      <td>77516</td>\n",
       "      <td>Bachelors</td>\n",
       "      <td>13</td>\n",
       "      <td>Never-married</td>\n",
       "      <td>Adm-clerical</td>\n",
       "      <td>Not-in-family</td>\n",
       "      <td>White</td>\n",
       "      <td>Male</td>\n",
       "      <td>2174</td>\n",
       "      <td>0</td>\n",
       "      <td>40</td>\n",
       "      <td>United-States</td>\n",
       "      <td>&lt;=50K</td>\n",
       "    </tr>\n",
       "    <tr>\n",
       "      <th>1</th>\n",
       "      <td>50</td>\n",
       "      <td>Self-emp-not-inc</td>\n",
       "      <td>83311</td>\n",
       "      <td>Bachelors</td>\n",
       "      <td>13</td>\n",
       "      <td>Married-civ-spouse</td>\n",
       "      <td>Exec-managerial</td>\n",
       "      <td>Husband</td>\n",
       "      <td>White</td>\n",
       "      <td>Male</td>\n",
       "      <td>0</td>\n",
       "      <td>0</td>\n",
       "      <td>13</td>\n",
       "      <td>United-States</td>\n",
       "      <td>&lt;=50K</td>\n",
       "    </tr>\n",
       "    <tr>\n",
       "      <th>2</th>\n",
       "      <td>38</td>\n",
       "      <td>Private</td>\n",
       "      <td>215646</td>\n",
       "      <td>HS-grad</td>\n",
       "      <td>9</td>\n",
       "      <td>Divorced</td>\n",
       "      <td>Handlers-cleaners</td>\n",
       "      <td>Not-in-family</td>\n",
       "      <td>White</td>\n",
       "      <td>Male</td>\n",
       "      <td>0</td>\n",
       "      <td>0</td>\n",
       "      <td>40</td>\n",
       "      <td>United-States</td>\n",
       "      <td>&lt;=50K</td>\n",
       "    </tr>\n",
       "    <tr>\n",
       "      <th>3</th>\n",
       "      <td>53</td>\n",
       "      <td>Private</td>\n",
       "      <td>234721</td>\n",
       "      <td>11th</td>\n",
       "      <td>7</td>\n",
       "      <td>Married-civ-spouse</td>\n",
       "      <td>Handlers-cleaners</td>\n",
       "      <td>Husband</td>\n",
       "      <td>Black</td>\n",
       "      <td>Male</td>\n",
       "      <td>0</td>\n",
       "      <td>0</td>\n",
       "      <td>40</td>\n",
       "      <td>United-States</td>\n",
       "      <td>&lt;=50K</td>\n",
       "    </tr>\n",
       "    <tr>\n",
       "      <th>4</th>\n",
       "      <td>28</td>\n",
       "      <td>Private</td>\n",
       "      <td>338409</td>\n",
       "      <td>Bachelors</td>\n",
       "      <td>13</td>\n",
       "      <td>Married-civ-spouse</td>\n",
       "      <td>Prof-specialty</td>\n",
       "      <td>Wife</td>\n",
       "      <td>Black</td>\n",
       "      <td>Female</td>\n",
       "      <td>0</td>\n",
       "      <td>0</td>\n",
       "      <td>40</td>\n",
       "      <td>Cuba</td>\n",
       "      <td>&lt;=50K</td>\n",
       "    </tr>\n",
       "    <tr>\n",
       "      <th>...</th>\n",
       "      <td>...</td>\n",
       "      <td>...</td>\n",
       "      <td>...</td>\n",
       "      <td>...</td>\n",
       "      <td>...</td>\n",
       "      <td>...</td>\n",
       "      <td>...</td>\n",
       "      <td>...</td>\n",
       "      <td>...</td>\n",
       "      <td>...</td>\n",
       "      <td>...</td>\n",
       "      <td>...</td>\n",
       "      <td>...</td>\n",
       "      <td>...</td>\n",
       "      <td>...</td>\n",
       "    </tr>\n",
       "    <tr>\n",
       "      <th>32556</th>\n",
       "      <td>27</td>\n",
       "      <td>Private</td>\n",
       "      <td>257302</td>\n",
       "      <td>Assoc-acdm</td>\n",
       "      <td>12</td>\n",
       "      <td>Married-civ-spouse</td>\n",
       "      <td>Tech-support</td>\n",
       "      <td>Wife</td>\n",
       "      <td>White</td>\n",
       "      <td>Female</td>\n",
       "      <td>0</td>\n",
       "      <td>0</td>\n",
       "      <td>38</td>\n",
       "      <td>United-States</td>\n",
       "      <td>&lt;=50K</td>\n",
       "    </tr>\n",
       "    <tr>\n",
       "      <th>32557</th>\n",
       "      <td>40</td>\n",
       "      <td>Private</td>\n",
       "      <td>154374</td>\n",
       "      <td>HS-grad</td>\n",
       "      <td>9</td>\n",
       "      <td>Married-civ-spouse</td>\n",
       "      <td>Machine-op-inspct</td>\n",
       "      <td>Husband</td>\n",
       "      <td>White</td>\n",
       "      <td>Male</td>\n",
       "      <td>0</td>\n",
       "      <td>0</td>\n",
       "      <td>40</td>\n",
       "      <td>United-States</td>\n",
       "      <td>&gt;50K</td>\n",
       "    </tr>\n",
       "    <tr>\n",
       "      <th>32558</th>\n",
       "      <td>58</td>\n",
       "      <td>Private</td>\n",
       "      <td>151910</td>\n",
       "      <td>HS-grad</td>\n",
       "      <td>9</td>\n",
       "      <td>Widowed</td>\n",
       "      <td>Adm-clerical</td>\n",
       "      <td>Unmarried</td>\n",
       "      <td>White</td>\n",
       "      <td>Female</td>\n",
       "      <td>0</td>\n",
       "      <td>0</td>\n",
       "      <td>40</td>\n",
       "      <td>United-States</td>\n",
       "      <td>&lt;=50K</td>\n",
       "    </tr>\n",
       "    <tr>\n",
       "      <th>32559</th>\n",
       "      <td>22</td>\n",
       "      <td>Private</td>\n",
       "      <td>201490</td>\n",
       "      <td>HS-grad</td>\n",
       "      <td>9</td>\n",
       "      <td>Never-married</td>\n",
       "      <td>Adm-clerical</td>\n",
       "      <td>Own-child</td>\n",
       "      <td>White</td>\n",
       "      <td>Male</td>\n",
       "      <td>0</td>\n",
       "      <td>0</td>\n",
       "      <td>20</td>\n",
       "      <td>United-States</td>\n",
       "      <td>&lt;=50K</td>\n",
       "    </tr>\n",
       "    <tr>\n",
       "      <th>32560</th>\n",
       "      <td>52</td>\n",
       "      <td>Self-emp-inc</td>\n",
       "      <td>287927</td>\n",
       "      <td>HS-grad</td>\n",
       "      <td>9</td>\n",
       "      <td>Married-civ-spouse</td>\n",
       "      <td>Exec-managerial</td>\n",
       "      <td>Wife</td>\n",
       "      <td>White</td>\n",
       "      <td>Female</td>\n",
       "      <td>15024</td>\n",
       "      <td>0</td>\n",
       "      <td>40</td>\n",
       "      <td>United-States</td>\n",
       "      <td>&gt;50K</td>\n",
       "    </tr>\n",
       "  </tbody>\n",
       "</table>\n",
       "<p>32561 rows × 15 columns</p>\n",
       "</div>"
      ],
      "text/plain": [
       "       age          workclass  final-weight    education  education-num  \\\n",
       "0       39          State-gov         77516    Bachelors             13   \n",
       "1       50   Self-emp-not-inc         83311    Bachelors             13   \n",
       "2       38            Private        215646      HS-grad              9   \n",
       "3       53            Private        234721         11th              7   \n",
       "4       28            Private        338409    Bachelors             13   \n",
       "...    ...                ...           ...          ...            ...   \n",
       "32556   27            Private        257302   Assoc-acdm             12   \n",
       "32557   40            Private        154374      HS-grad              9   \n",
       "32558   58            Private        151910      HS-grad              9   \n",
       "32559   22            Private        201490      HS-grad              9   \n",
       "32560   52       Self-emp-inc        287927      HS-grad              9   \n",
       "\n",
       "            marital-status          occupation    relationship    race  \\\n",
       "0            Never-married        Adm-clerical   Not-in-family   White   \n",
       "1       Married-civ-spouse     Exec-managerial         Husband   White   \n",
       "2                 Divorced   Handlers-cleaners   Not-in-family   White   \n",
       "3       Married-civ-spouse   Handlers-cleaners         Husband   Black   \n",
       "4       Married-civ-spouse      Prof-specialty            Wife   Black   \n",
       "...                    ...                 ...             ...     ...   \n",
       "32556   Married-civ-spouse        Tech-support            Wife   White   \n",
       "32557   Married-civ-spouse   Machine-op-inspct         Husband   White   \n",
       "32558              Widowed        Adm-clerical       Unmarried   White   \n",
       "32559        Never-married        Adm-clerical       Own-child   White   \n",
       "32560   Married-civ-spouse     Exec-managerial            Wife   White   \n",
       "\n",
       "           sex  capital-gain  capital-loos  hour-per-week  native-country  \\\n",
       "0         Male          2174             0             40   United-States   \n",
       "1         Male             0             0             13   United-States   \n",
       "2         Male             0             0             40   United-States   \n",
       "3         Male             0             0             40   United-States   \n",
       "4       Female             0             0             40            Cuba   \n",
       "...        ...           ...           ...            ...             ...   \n",
       "32556   Female             0             0             38   United-States   \n",
       "32557     Male             0             0             40   United-States   \n",
       "32558   Female             0             0             40   United-States   \n",
       "32559     Male             0             0             20   United-States   \n",
       "32560   Female         15024             0             40   United-States   \n",
       "\n",
       "       income  \n",
       "0       <=50K  \n",
       "1       <=50K  \n",
       "2       <=50K  \n",
       "3       <=50K  \n",
       "4       <=50K  \n",
       "...       ...  \n",
       "32556   <=50K  \n",
       "32557    >50K  \n",
       "32558   <=50K  \n",
       "32559   <=50K  \n",
       "32560    >50K  \n",
       "\n",
       "[32561 rows x 15 columns]"
      ]
     },
     "execution_count": 1,
     "metadata": {},
     "output_type": "execute_result"
    }
   ],
   "source": [
    "import pandas as pd\n",
    "import numpy as np\n",
    "dbase = pd.read_csv('../Dados/Bases_de_dados/census.csv')\n",
    "dbase"
   ]
  },
  {
   "cell_type": "code",
   "execution_count": 2,
   "id": "fd4491bc",
   "metadata": {},
   "outputs": [],
   "source": [
    "X = dbase.iloc[:, 0:14].values\n",
    "y = dbase.iloc[:, 14].values"
   ]
  },
  {
   "cell_type": "code",
   "execution_count": 3,
   "id": "27081fbe",
   "metadata": {},
   "outputs": [
    {
     "data": {
      "text/plain": [
       "array([[39, ' State-gov', 77516, ..., 0, 40, ' United-States'],\n",
       "       [50, ' Self-emp-not-inc', 83311, ..., 0, 13, ' United-States'],\n",
       "       [38, ' Private', 215646, ..., 0, 40, ' United-States'],\n",
       "       ...,\n",
       "       [58, ' Private', 151910, ..., 0, 40, ' United-States'],\n",
       "       [22, ' Private', 201490, ..., 0, 20, ' United-States'],\n",
       "       [52, ' Self-emp-inc', 287927, ..., 0, 40, ' United-States']],\n",
       "      dtype=object)"
      ]
     },
     "execution_count": 3,
     "metadata": {},
     "output_type": "execute_result"
    }
   ],
   "source": [
    "X"
   ]
  },
  {
   "cell_type": "code",
   "execution_count": 4,
   "id": "c305c134",
   "metadata": {},
   "outputs": [
    {
     "data": {
      "text/plain": [
       "array([' <=50K', ' <=50K', ' <=50K', ..., ' <=50K', ' <=50K', ' >50K'],\n",
       "      dtype=object)"
      ]
     },
     "execution_count": 4,
     "metadata": {},
     "output_type": "execute_result"
    }
   ],
   "source": [
    "y"
   ]
  },
  {
   "cell_type": "code",
   "execution_count": 5,
   "id": "06882be3",
   "metadata": {},
   "outputs": [],
   "source": [
    "# CONVERSAO DE VALORES CATEGORICOS\n",
    "from sklearn.preprocessing import LabelEncoder\n",
    "conversor = LabelEncoder()"
   ]
  },
  {
   "cell_type": "code",
   "execution_count": 6,
   "id": "a5970d98",
   "metadata": {},
   "outputs": [],
   "source": [
    "#CONVERTENDO AS COLUNAS CATEGORICAS\n",
    "X[:, 1] = conversor.fit_transform(X[:, 1])\n",
    "X[:, 3] = conversor.fit_transform(X[:, 3])\n",
    "X[:, 5] = conversor.fit_transform(X[:, 5])\n",
    "X[:, 6] = conversor.fit_transform(X[:, 6])\n",
    "X[:, 7] = conversor.fit_transform(X[:, 7])\n",
    "X[:, 8] = conversor.fit_transform(X[:, 8])\n",
    "X[:, 9] = conversor.fit_transform(X[:, 9])\n",
    "X[:, 13] = conversor.fit_transform(X[:, 13])"
   ]
  },
  {
   "cell_type": "code",
   "execution_count": 7,
   "id": "5fc14aa2",
   "metadata": {},
   "outputs": [
    {
     "data": {
      "text/plain": [
       "array([[ 0.03067056,  2.15057856, -1.06361075, ..., -0.21665953,\n",
       "        -0.03542945,  0.29156857],\n",
       "       [ 0.83710898,  1.46373585, -1.008707  , ..., -0.21665953,\n",
       "        -2.22215312,  0.29156857],\n",
       "       [-0.04264203,  0.09005041,  0.2450785 , ..., -0.21665953,\n",
       "        -0.03542945,  0.29156857],\n",
       "       ...,\n",
       "       [ 1.42360965,  0.09005041, -0.35877741, ..., -0.21665953,\n",
       "        -0.03542945,  0.29156857],\n",
       "       [-1.21564337,  0.09005041,  0.11095988, ..., -0.21665953,\n",
       "        -1.65522476,  0.29156857],\n",
       "       [ 0.98373415,  0.77689313,  0.92989258, ..., -0.21665953,\n",
       "        -0.03542945,  0.29156857]])"
      ]
     },
     "execution_count": 7,
     "metadata": {},
     "output_type": "execute_result"
    }
   ],
   "source": [
    "# Escalonamento dos valores\n",
    "from sklearn.preprocessing import StandardScaler\n",
    "scaler = StandardScaler()\n",
    "Xs = scaler.fit_transform(X)\n",
    "Xs"
   ]
  },
  {
   "cell_type": "code",
   "execution_count": 8,
   "id": "31618caf",
   "metadata": {},
   "outputs": [
    {
     "data": {
      "text/plain": [
       "((22792, 14), (9769, 14))"
      ]
     },
     "execution_count": 8,
     "metadata": {},
     "output_type": "execute_result"
    }
   ],
   "source": [
    "from sklearn.model_selection import train_test_split\n",
    "X_train, X_test, y_train, y_test = train_test_split(X, y, test_size=0.3, random_state=0)\n",
    "X_train.shape, X_test.shape"
   ]
  },
  {
   "cell_type": "code",
   "execution_count": 9,
   "id": "7e9ae050",
   "metadata": {},
   "outputs": [
    {
     "data": {
      "text/plain": [
       "((22792,), (9769,))"
      ]
     },
     "execution_count": 9,
     "metadata": {},
     "output_type": "execute_result"
    }
   ],
   "source": [
    "y_train.shape, y_test.shape"
   ]
  },
  {
   "cell_type": "markdown",
   "id": "028504bb",
   "metadata": {},
   "source": [
    "# APLICACAO DO PCA - NAO SUPERVISIONADO"
   ]
  },
  {
   "cell_type": "code",
   "execution_count": 10,
   "id": "47649ac4",
   "metadata": {},
   "outputs": [],
   "source": [
    "from sklearn.decomposition import PCA\n",
    "pca = PCA(n_components = 8) # DEFINICAO DO NUMERO DE ATRIBUTOS A MANTER APOS A REDUCAO"
   ]
  },
  {
   "cell_type": "code",
   "execution_count": 11,
   "id": "7d2ecc65",
   "metadata": {},
   "outputs": [],
   "source": [
    "# TREINAMENTO OU EXTRACAO DAS CARATERISTICAS\n",
    "Xpca_treino = pca.fit_transform(X_train)\n",
    "Xpca_teste = pca.transform(X_test)"
   ]
  },
  {
   "cell_type": "code",
   "execution_count": 12,
   "id": "80356658",
   "metadata": {},
   "outputs": [
    {
     "data": {
      "text/plain": [
       "(22792, 8)"
      ]
     },
     "execution_count": 12,
     "metadata": {},
     "output_type": "execute_result"
    }
   ],
   "source": [
    "Xpca_treino.shape"
   ]
  },
  {
   "cell_type": "code",
   "execution_count": 13,
   "id": "954a2a54",
   "metadata": {},
   "outputs": [
    {
     "data": {
      "text/plain": [
       "array([9.94922911e-01, 5.06227345e-03, 1.47760159e-05, 1.66058845e-08,\n",
       "       1.32377605e-08, 5.53127321e-09, 1.61049477e-09, 1.42701258e-09])"
      ]
     },
     "execution_count": 13,
     "metadata": {},
     "output_type": "execute_result"
    }
   ],
   "source": [
    "# VISUALIZACAO DAS VARIANCIAS \n",
    "pca.explained_variance_ratio_"
   ]
  },
  {
   "cell_type": "code",
   "execution_count": 14,
   "id": "b60ab598",
   "metadata": {},
   "outputs": [
    {
     "data": {
      "text/plain": [
       "0.9999999989132574"
      ]
     },
     "execution_count": 14,
     "metadata": {},
     "output_type": "execute_result"
    }
   ],
   "source": [
    "# VISUALIZACAO DA PERCENTAGEM DOS ATRIBUTOS APLICADOS\n",
    "pca.explained_variance_ratio_.sum()"
   ]
  },
  {
   "cell_type": "code",
   "execution_count": 15,
   "id": "44e18d26",
   "metadata": {},
   "outputs": [
    {
     "data": {
      "text/plain": [
       "0.8261848705087522"
      ]
     },
     "execution_count": 15,
     "metadata": {},
     "output_type": "execute_result"
    }
   ],
   "source": [
    "# TESTE COM RANDOM_FOREST\n",
    "from sklearn.ensemble import RandomForestClassifier\n",
    "Rf_pca = RandomForestClassifier()\n",
    "Rfpca = Rf_pca.fit(Xpca_treino, y_train)\n",
    "Rfpca.score(Xpca_teste, y_test)"
   ]
  },
  {
   "cell_type": "code",
   "execution_count": 16,
   "id": "cdf1cd13",
   "metadata": {},
   "outputs": [
    {
     "data": {
      "text/plain": [
       "array([' <=50K', ' <=50K', ' <=50K', ..., ' >50K', ' <=50K', ' <=50K'],\n",
       "      dtype=object)"
      ]
     },
     "execution_count": 16,
     "metadata": {},
     "output_type": "execute_result"
    }
   ],
   "source": [
    "prevendo = Rfpca.predict(Xpca_teste)\n",
    "prevendo"
   ]
  },
  {
   "cell_type": "code",
   "execution_count": 17,
   "id": "556dac8a",
   "metadata": {},
   "outputs": [
    {
     "name": "stdout",
     "output_type": "stream",
     "text": [
      "              precision    recall  f1-score   support\n",
      "\n",
      "       <=50K       0.85      0.94      0.89      7407\n",
      "        >50K       0.72      0.46      0.56      2362\n",
      "\n",
      "    accuracy                           0.83      9769\n",
      "   macro avg       0.78      0.70      0.73      9769\n",
      "weighted avg       0.82      0.83      0.81      9769\n",
      "\n"
     ]
    }
   ],
   "source": [
    "from sklearn.metrics import classification_report\n",
    "print(classification_report(y_test, prevendo))"
   ]
  },
  {
   "cell_type": "code",
   "execution_count": 18,
   "id": "18aabd9c",
   "metadata": {},
   "outputs": [
    {
     "data": {
      "image/png": "[encoded data removed]",
      "text/plain": [
       "<Figure size 640x480 with 2 Axes>"
      ]
     },
     "metadata": {},
     "output_type": "display_data"
    }
   ],
   "source": [
    "import matplotlib.pyplot as plt\n",
    "from sklearn.metrics import ConfusionMatrixDisplay\n",
    "cm = ConfusionMatrixDisplay.from_predictions(y_test, prevendo)\n",
    "plt.show()"
   ]
  },
  {
   "cell_type": "markdown",
   "id": "e4e7f495",
   "metadata": {},
   "source": [
    "# Kernel PCA - METODO NAO SUPERVISIONADA - Nao necessita de classe y"
   ]
  },
  {
   "cell_type": "code",
   "execution_count": 19,
   "id": "5aa9d2fd",
   "metadata": {},
   "outputs": [],
   "source": [
    "from sklearn.decomposition import KernelPCA\n",
    "Kpca = KernelPCA(n_components = 8, kernel='rbf')\n",
    "X_kpca_train = Kpca.fit_transform(X_train)\n",
    "X_kpca_test = Kpca.transform(X_test)"
   ]
  },
  {
   "cell_type": "code",
   "execution_count": 20,
   "id": "a2e258f7",
   "metadata": {},
   "outputs": [
    {
     "data": {
      "text/plain": [
       "((22792, 8), (9769, 8))"
      ]
     },
     "execution_count": 20,
     "metadata": {},
     "output_type": "execute_result"
    }
   ],
   "source": [
    "X_kpca_train.shape, X_kpca_test.shape"
   ]
  },
  {
   "cell_type": "code",
   "execution_count": 21,
   "id": "9f257924",
   "metadata": {},
   "outputs": [
    {
     "data": {
      "text/plain": [
       "array([[-1.20274164e-04, -1.02286116e-04, -1.94720913e-09, ...,\n",
       "         7.14497464e-17,  6.83465540e-17,  1.70636391e-16],\n",
       "       [-1.20274164e-04, -1.02286116e-04, -1.94720913e-09, ...,\n",
       "         7.09195241e-17,  6.79057322e-17,  1.71403038e-16],\n",
       "       [-1.20274184e-04, -1.02286141e-04, -1.94720965e-09, ...,\n",
       "         7.10965035e-17,  6.89790376e-17,  1.70253068e-16],\n",
       "       ...,\n",
       "       [-1.20274164e-04, -1.02286116e-04, -1.94720913e-09, ...,\n",
       "         7.08722588e-17,  6.85382157e-17,  1.71230542e-16],\n",
       "       [-1.20274164e-04, -1.02286116e-04, -1.94720913e-09, ...,\n",
       "         7.09013620e-17,  6.84998834e-17,  1.71230542e-16],\n",
       "       [-1.20274164e-04, -1.02286116e-04, -1.94720913e-09, ...,\n",
       "         7.08997072e-17,  6.85190496e-17,  1.71115545e-16]])"
      ]
     },
     "execution_count": 21,
     "metadata": {},
     "output_type": "execute_result"
    }
   ],
   "source": [
    "X_kpca_train"
   ]
  },
  {
   "cell_type": "code",
   "execution_count": 24,
   "id": "f73b06e4",
   "metadata": {},
   "outputs": [
    {
     "data": {
      "text/plain": [
       "0.7581123963558194"
      ]
     },
     "execution_count": 24,
     "metadata": {},
     "output_type": "execute_result"
    }
   ],
   "source": [
    "# TESTE COM RANDOMFOREST\n",
    "from sklearn.ensemble import RandomForestClassifier\n",
    "Rf_KernelPCA = RandomForestClassifier()\n",
    "Kernel_PCA = Rf_KernelPCA.fit(X_kpca_train, y_train)\n",
    "Kernel_PCA.score(X_kpca_test, y_test)"
   ]
  },
  {
   "cell_type": "code",
   "execution_count": 25,
   "id": "edb3712c",
   "metadata": {},
   "outputs": [
    {
     "data": {
      "text/plain": [
       "array([' <=50K', ' <=50K', ' <=50K', ..., ' <=50K', ' <=50K', ' <=50K'],\n",
       "      dtype=object)"
      ]
     },
     "execution_count": 25,
     "metadata": {},
     "output_type": "execute_result"
    }
   ],
   "source": [
    "previsor = Kernel_PCA.predict(X_kpca_test)\n",
    "previsor "
   ]
  },
  {
   "cell_type": "code",
   "execution_count": 30,
   "id": "de031556",
   "metadata": {},
   "outputs": [
    {
     "name": "stdout",
     "output_type": "stream",
     "text": [
      "              precision    recall  f1-score   support\n",
      "\n",
      "       <=50K       0.76      1.00      0.86      7407\n",
      "        >50K       0.00      0.00      0.00      2362\n",
      "\n",
      "    accuracy                           0.76      9769\n",
      "   macro avg       0.38      0.50      0.43      9769\n",
      "weighted avg       0.57      0.76      0.65      9769\n",
      "\n"
     ]
    },
    {
     "data": {
      "text/plain": [
       "0.7581123963558194"
      ]
     },
     "execution_count": 30,
     "metadata": {},
     "output_type": "execute_result"
    }
   ],
   "source": [
    "from sklearn.metrics import accuracy_score, classification_report\n",
    "print(classification_report(y_test, previsor))\n",
    "accuracy_score(y_test, previsor)"
   ]
  },
  {
   "cell_type": "code",
   "execution_count": 31,
   "id": "49614a78",
   "metadata": {},
   "outputs": [
    {
     "data": {
      "image/png": "[encoded data removed]",
      "text/plain": [
       "<Figure size 640x480 with 2 Axes>"
      ]
     },
     "metadata": {},
     "output_type": "display_data"
    }
   ],
   "source": [
    "from sklearn.metrics import ConfusionMatrixDisplay\n",
    "cm = ConfusionMatrixDisplay.from_predictions(y_test, previsor)\n",
    "plt.show()"
   ]
  },
  {
   "cell_type": "markdown",
   "id": "5f2ff7ff",
   "metadata": {},
   "source": [
    "# EXTRA_TREE - SUPERVISIONADO - classe necessario no train"
   ]
  },
  {
   "cell_type": "code",
   "execution_count": 46,
   "id": "6c0c15f6",
   "metadata": {},
   "outputs": [],
   "source": [
    "from sklearn.discriminant_analysis import LinearDiscriminantAnalysis\n",
    "lda = LinearDiscriminantAnalysis()\n",
    "X_lda_train = lda.fit_transform(X_train, y_train)\n",
    "X_lda_test = lda.transform(X_test)"
   ]
  },
  {
   "cell_type": "code",
   "execution_count": 47,
   "id": "42d847c7",
   "metadata": {},
   "outputs": [
    {
     "data": {
      "text/plain": [
       "((22792, 1), (9769, 1))"
      ]
     },
     "execution_count": 47,
     "metadata": {},
     "output_type": "execute_result"
    }
   ],
   "source": [
    "X_lda_train.shape, X_lda_test.shape"
   ]
  },
  {
   "cell_type": "code",
   "execution_count": 48,
   "id": "1954d789",
   "metadata": {},
   "outputs": [
    {
     "data": {
      "text/plain": [
       "array([[ 0.85498524],\n",
       "       [-0.54953126],\n",
       "       [ 0.68839176],\n",
       "       ...,\n",
       "       [-1.3711623 ],\n",
       "       [ 2.43964133],\n",
       "       [-0.18933703]])"
      ]
     },
     "execution_count": 48,
     "metadata": {},
     "output_type": "execute_result"
    }
   ],
   "source": [
    "X_lda_train"
   ]
  },
  {
   "cell_type": "code",
   "execution_count": 51,
   "id": "c2064d49",
   "metadata": {},
   "outputs": [
    {
     "data": {
      "text/plain": [
       "0.7418364213327874"
      ]
     },
     "execution_count": 51,
     "metadata": {},
     "output_type": "execute_result"
    }
   ],
   "source": [
    "from sklearn.ensemble import RandomForestClassifier\n",
    "Rflda = RandomForestClassifier()\n",
    "lda = Rflad.fit(X_lda_train, y_train)\n",
    "lda.score(X_lda_test, y_test)"
   ]
  },
  {
   "cell_type": "code",
   "execution_count": 52,
   "id": "e9bf77a9",
   "metadata": {},
   "outputs": [
    {
     "data": {
      "text/plain": [
       "array([' <=50K', ' <=50K', ' <=50K', ..., ' >50K', ' <=50K', ' <=50K'],\n",
       "      dtype=object)"
      ]
     },
     "execution_count": 52,
     "metadata": {},
     "output_type": "execute_result"
    }
   ],
   "source": [
    "predlda = lad.predict(X_lda_test)\n",
    "predlda"
   ]
  },
  {
   "cell_type": "code",
   "execution_count": 55,
   "id": "1a73fbf6",
   "metadata": {},
   "outputs": [
    {
     "name": "stdout",
     "output_type": "stream",
     "text": [
      "              precision    recall  f1-score   support\n",
      "\n",
      "       <=50K       0.83      0.83      0.83      7407\n",
      "        >50K       0.47      0.47      0.47      2362\n",
      "\n",
      "    accuracy                           0.74      9769\n",
      "   macro avg       0.65      0.65      0.65      9769\n",
      "weighted avg       0.74      0.74      0.74      9769\n",
      "\n"
     ]
    },
    {
     "data": {
      "text/plain": [
       "0.7418364213327874"
      ]
     },
     "execution_count": 55,
     "metadata": {},
     "output_type": "execute_result"
    }
   ],
   "source": [
    "from sklearn.metrics import accuracy_score, classification_report\n",
    "print(classification_report(y_test, predlda))\n",
    "accuracy_score(y_test, predlda)"
   ]
  },
  {
   "cell_type": "code",
   "execution_count": 56,
   "id": "f7066c5d",
   "metadata": {},
   "outputs": [
    {
     "data": {
      "image/png": "[encoded data removed]",
      "text/plain": [
       "<Figure size 640x480 with 2 Axes>"
      ]
     },
     "metadata": {},
     "output_type": "display_data"
    }
   ],
   "source": [
    "from sklearn.metrics import ConfusionMatrixDisplay\n",
    "cm = ConfusionMatrixDisplay.from_predictions(y_test, predlda)\n",
    "plt.show()"
   ]
  },
  {
   "cell_type": "code",
   "execution_count": null,
   "id": "395f8580",
   "metadata": {},
   "outputs": [],
   "source": []
  }
 ],
 "metadata": {
  "kernelspec": {
   "display_name": "Python 3 (ipykernel)",
   "language": "python",
   "name": "python3"
  },
  "language_info": {
   "codemirror_mode": {
    "name": "ipython",
    "version": 3
   },
   "file_extension": ".py",
   "mimetype": "text/x-python",
   "name": "python",
   "nbconvert_exporter": "python",
   "pygments_lexer": "ipython3",
   "version": "3.9.13"
  }
 },
 "nbformat": 4,
 "nbformat_minor": 5
}
