{
 "cells": [
  {
   "cell_type": "markdown",
   "id": "a4a3a3f7",
   "metadata": {},
   "source": [
    "# Tecnicas de Tratamento de Atributos"
   ]
  },
  {
   "cell_type": "code",
   "execution_count": 87,
   "id": "0fda92c8",
   "metadata": {},
   "outputs": [
    {
     "data": {
      "text/html": [
       "<div>\n",
       "<style scoped>\n",
       "    .dataframe tbody tr th:only-of-type {\n",
       "        vertical-align: middle;\n",
       "    }\n",
       "\n",
       "    .dataframe tbody tr th {\n",
       "        vertical-align: top;\n",
       "    }\n",
       "\n",
       "    .dataframe thead th {\n",
       "        text-align: right;\n",
       "    }\n",
       "</style>\n",
       "<table border=\"1\" class=\"dataframe\">\n",
       "  <thead>\n",
       "    <tr style=\"text-align: right;\">\n",
       "      <th></th>\n",
       "      <th>age</th>\n",
       "      <th>workclass</th>\n",
       "      <th>final-weight</th>\n",
       "      <th>education</th>\n",
       "      <th>education-num</th>\n",
       "      <th>marital-status</th>\n",
       "      <th>occupation</th>\n",
       "      <th>relationship</th>\n",
       "      <th>race</th>\n",
       "      <th>sex</th>\n",
       "      <th>capital-gain</th>\n",
       "      <th>capital-loos</th>\n",
       "      <th>hour-per-week</th>\n",
       "      <th>native-country</th>\n",
       "      <th>income</th>\n",
       "    </tr>\n",
       "  </thead>\n",
       "  <tbody>\n",
       "    <tr>\n",
       "      <th>0</th>\n",
       "      <td>39</td>\n",
       "      <td>State-gov</td>\n",
       "      <td>77516</td>\n",
       "      <td>Bachelors</td>\n",
       "      <td>13</td>\n",
       "      <td>Never-married</td>\n",
       "      <td>Adm-clerical</td>\n",
       "      <td>Not-in-family</td>\n",
       "      <td>White</td>\n",
       "      <td>Male</td>\n",
       "      <td>2174</td>\n",
       "      <td>0</td>\n",
       "      <td>40</td>\n",
       "      <td>United-States</td>\n",
       "      <td>&lt;=50K</td>\n",
       "    </tr>\n",
       "    <tr>\n",
       "      <th>1</th>\n",
       "      <td>50</td>\n",
       "      <td>Self-emp-not-inc</td>\n",
       "      <td>83311</td>\n",
       "      <td>Bachelors</td>\n",
       "      <td>13</td>\n",
       "      <td>Married-civ-spouse</td>\n",
       "      <td>Exec-managerial</td>\n",
       "      <td>Husband</td>\n",
       "      <td>White</td>\n",
       "      <td>Male</td>\n",
       "      <td>0</td>\n",
       "      <td>0</td>\n",
       "      <td>13</td>\n",
       "      <td>United-States</td>\n",
       "      <td>&lt;=50K</td>\n",
       "    </tr>\n",
       "    <tr>\n",
       "      <th>2</th>\n",
       "      <td>38</td>\n",
       "      <td>Private</td>\n",
       "      <td>215646</td>\n",
       "      <td>HS-grad</td>\n",
       "      <td>9</td>\n",
       "      <td>Divorced</td>\n",
       "      <td>Handlers-cleaners</td>\n",
       "      <td>Not-in-family</td>\n",
       "      <td>White</td>\n",
       "      <td>Male</td>\n",
       "      <td>0</td>\n",
       "      <td>0</td>\n",
       "      <td>40</td>\n",
       "      <td>United-States</td>\n",
       "      <td>&lt;=50K</td>\n",
       "    </tr>\n",
       "    <tr>\n",
       "      <th>3</th>\n",
       "      <td>53</td>\n",
       "      <td>Private</td>\n",
       "      <td>234721</td>\n",
       "      <td>11th</td>\n",
       "      <td>7</td>\n",
       "      <td>Married-civ-spouse</td>\n",
       "      <td>Handlers-cleaners</td>\n",
       "      <td>Husband</td>\n",
       "      <td>Black</td>\n",
       "      <td>Male</td>\n",
       "      <td>0</td>\n",
       "      <td>0</td>\n",
       "      <td>40</td>\n",
       "      <td>United-States</td>\n",
       "      <td>&lt;=50K</td>\n",
       "    </tr>\n",
       "    <tr>\n",
       "      <th>4</th>\n",
       "      <td>28</td>\n",
       "      <td>Private</td>\n",
       "      <td>338409</td>\n",
       "      <td>Bachelors</td>\n",
       "      <td>13</td>\n",
       "      <td>Married-civ-spouse</td>\n",
       "      <td>Prof-specialty</td>\n",
       "      <td>Wife</td>\n",
       "      <td>Black</td>\n",
       "      <td>Female</td>\n",
       "      <td>0</td>\n",
       "      <td>0</td>\n",
       "      <td>40</td>\n",
       "      <td>Cuba</td>\n",
       "      <td>&lt;=50K</td>\n",
       "    </tr>\n",
       "    <tr>\n",
       "      <th>...</th>\n",
       "      <td>...</td>\n",
       "      <td>...</td>\n",
       "      <td>...</td>\n",
       "      <td>...</td>\n",
       "      <td>...</td>\n",
       "      <td>...</td>\n",
       "      <td>...</td>\n",
       "      <td>...</td>\n",
       "      <td>...</td>\n",
       "      <td>...</td>\n",
       "      <td>...</td>\n",
       "      <td>...</td>\n",
       "      <td>...</td>\n",
       "      <td>...</td>\n",
       "      <td>...</td>\n",
       "    </tr>\n",
       "    <tr>\n",
       "      <th>32556</th>\n",
       "      <td>27</td>\n",
       "      <td>Private</td>\n",
       "      <td>257302</td>\n",
       "      <td>Assoc-acdm</td>\n",
       "      <td>12</td>\n",
       "      <td>Married-civ-spouse</td>\n",
       "      <td>Tech-support</td>\n",
       "      <td>Wife</td>\n",
       "      <td>White</td>\n",
       "      <td>Female</td>\n",
       "      <td>0</td>\n",
       "      <td>0</td>\n",
       "      <td>38</td>\n",
       "      <td>United-States</td>\n",
       "      <td>&lt;=50K</td>\n",
       "    </tr>\n",
       "    <tr>\n",
       "      <th>32557</th>\n",
       "      <td>40</td>\n",
       "      <td>Private</td>\n",
       "      <td>154374</td>\n",
       "      <td>HS-grad</td>\n",
       "      <td>9</td>\n",
       "      <td>Married-civ-spouse</td>\n",
       "      <td>Machine-op-inspct</td>\n",
       "      <td>Husband</td>\n",
       "      <td>White</td>\n",
       "      <td>Male</td>\n",
       "      <td>0</td>\n",
       "      <td>0</td>\n",
       "      <td>40</td>\n",
       "      <td>United-States</td>\n",
       "      <td>&gt;50K</td>\n",
       "    </tr>\n",
       "    <tr>\n",
       "      <th>32558</th>\n",
       "      <td>58</td>\n",
       "      <td>Private</td>\n",
       "      <td>151910</td>\n",
       "      <td>HS-grad</td>\n",
       "      <td>9</td>\n",
       "      <td>Widowed</td>\n",
       "      <td>Adm-clerical</td>\n",
       "      <td>Unmarried</td>\n",
       "      <td>White</td>\n",
       "      <td>Female</td>\n",
       "      <td>0</td>\n",
       "      <td>0</td>\n",
       "      <td>40</td>\n",
       "      <td>United-States</td>\n",
       "      <td>&lt;=50K</td>\n",
       "    </tr>\n",
       "    <tr>\n",
       "      <th>32559</th>\n",
       "      <td>22</td>\n",
       "      <td>Private</td>\n",
       "      <td>201490</td>\n",
       "      <td>HS-grad</td>\n",
       "      <td>9</td>\n",
       "      <td>Never-married</td>\n",
       "      <td>Adm-clerical</td>\n",
       "      <td>Own-child</td>\n",
       "      <td>White</td>\n",
       "      <td>Male</td>\n",
       "      <td>0</td>\n",
       "      <td>0</td>\n",
       "      <td>20</td>\n",
       "      <td>United-States</td>\n",
       "      <td>&lt;=50K</td>\n",
       "    </tr>\n",
       "    <tr>\n",
       "      <th>32560</th>\n",
       "      <td>52</td>\n",
       "      <td>Self-emp-inc</td>\n",
       "      <td>287927</td>\n",
       "      <td>HS-grad</td>\n",
       "      <td>9</td>\n",
       "      <td>Married-civ-spouse</td>\n",
       "      <td>Exec-managerial</td>\n",
       "      <td>Wife</td>\n",
       "      <td>White</td>\n",
       "      <td>Female</td>\n",
       "      <td>15024</td>\n",
       "      <td>0</td>\n",
       "      <td>40</td>\n",
       "      <td>United-States</td>\n",
       "      <td>&gt;50K</td>\n",
       "    </tr>\n",
       "  </tbody>\n",
       "</table>\n",
       "<p>32561 rows × 15 columns</p>\n",
       "</div>"
      ],
      "text/plain": [
       "       age          workclass  final-weight    education  education-num  \\\n",
       "0       39          State-gov         77516    Bachelors             13   \n",
       "1       50   Self-emp-not-inc         83311    Bachelors             13   \n",
       "2       38            Private        215646      HS-grad              9   \n",
       "3       53            Private        234721         11th              7   \n",
       "4       28            Private        338409    Bachelors             13   \n",
       "...    ...                ...           ...          ...            ...   \n",
       "32556   27            Private        257302   Assoc-acdm             12   \n",
       "32557   40            Private        154374      HS-grad              9   \n",
       "32558   58            Private        151910      HS-grad              9   \n",
       "32559   22            Private        201490      HS-grad              9   \n",
       "32560   52       Self-emp-inc        287927      HS-grad              9   \n",
       "\n",
       "            marital-status          occupation    relationship    race  \\\n",
       "0            Never-married        Adm-clerical   Not-in-family   White   \n",
       "1       Married-civ-spouse     Exec-managerial         Husband   White   \n",
       "2                 Divorced   Handlers-cleaners   Not-in-family   White   \n",
       "3       Married-civ-spouse   Handlers-cleaners         Husband   Black   \n",
       "4       Married-civ-spouse      Prof-specialty            Wife   Black   \n",
       "...                    ...                 ...             ...     ...   \n",
       "32556   Married-civ-spouse        Tech-support            Wife   White   \n",
       "32557   Married-civ-spouse   Machine-op-inspct         Husband   White   \n",
       "32558              Widowed        Adm-clerical       Unmarried   White   \n",
       "32559        Never-married        Adm-clerical       Own-child   White   \n",
       "32560   Married-civ-spouse     Exec-managerial            Wife   White   \n",
       "\n",
       "           sex  capital-gain  capital-loos  hour-per-week  native-country  \\\n",
       "0         Male          2174             0             40   United-States   \n",
       "1         Male             0             0             13   United-States   \n",
       "2         Male             0             0             40   United-States   \n",
       "3         Male             0             0             40   United-States   \n",
       "4       Female             0             0             40            Cuba   \n",
       "...        ...           ...           ...            ...             ...   \n",
       "32556   Female             0             0             38   United-States   \n",
       "32557     Male             0             0             40   United-States   \n",
       "32558   Female             0             0             40   United-States   \n",
       "32559     Male             0             0             20   United-States   \n",
       "32560   Female         15024             0             40   United-States   \n",
       "\n",
       "       income  \n",
       "0       <=50K  \n",
       "1       <=50K  \n",
       "2       <=50K  \n",
       "3       <=50K  \n",
       "4       <=50K  \n",
       "...       ...  \n",
       "32556   <=50K  \n",
       "32557    >50K  \n",
       "32558   <=50K  \n",
       "32559   <=50K  \n",
       "32560    >50K  \n",
       "\n",
       "[32561 rows x 15 columns]"
      ]
     },
     "execution_count": 87,
     "metadata": {},
     "output_type": "execute_result"
    }
   ],
   "source": [
    "import pandas as pd\n",
    "import numpy as np\n",
    "base = pd.read_csv('../Dados/Bases_de_Dados/census.csv')\n",
    "base"
   ]
  },
  {
   "cell_type": "code",
   "execution_count": 88,
   "id": "f8af38de",
   "metadata": {},
   "outputs": [
    {
     "data": {
      "text/plain": [
       "Index(['age', 'workclass', 'final-weight', 'education', 'education-num',\n",
       "       'marital-status', 'occupation', 'relationship', 'race', 'sex',\n",
       "       'capital-gain', 'capital-loos', 'hour-per-week', 'native-country'],\n",
       "      dtype='object')"
      ]
     },
     "execution_count": 88,
     "metadata": {},
     "output_type": "execute_result"
    }
   ],
   "source": [
    "# Visualizacao das colunas a serem trabalhadas\n",
    "colunas = base.columns[: -1] # Para selecionar todas as colunas excepto a ultima\n",
    "colunas"
   ]
  },
  {
   "cell_type": "code",
   "execution_count": 89,
   "id": "351466b4",
   "metadata": {},
   "outputs": [],
   "source": [
    "# Divisao entre previsores e classe\n",
    "X = base.iloc[:, 0:14].values\n",
    "y = base.iloc[:, 14].values"
   ]
  },
  {
   "cell_type": "code",
   "execution_count": 90,
   "id": "ea4e0ae9",
   "metadata": {},
   "outputs": [
    {
     "data": {
      "text/plain": [
       "array([[39, ' State-gov', 77516, ..., 0, 40, ' United-States'],\n",
       "       [50, ' Self-emp-not-inc', 83311, ..., 0, 13, ' United-States'],\n",
       "       [38, ' Private', 215646, ..., 0, 40, ' United-States'],\n",
       "       ...,\n",
       "       [58, ' Private', 151910, ..., 0, 40, ' United-States'],\n",
       "       [22, ' Private', 201490, ..., 0, 20, ' United-States'],\n",
       "       [52, ' Self-emp-inc', 287927, ..., 0, 40, ' United-States']],\n",
       "      dtype=object)"
      ]
     },
     "execution_count": 90,
     "metadata": {},
     "output_type": "execute_result"
    }
   ],
   "source": [
    "X"
   ]
  },
  {
   "cell_type": "code",
   "execution_count": 91,
   "id": "6654a42a",
   "metadata": {},
   "outputs": [
    {
     "data": {
      "text/plain": [
       "array([' <=50K', ' <=50K', ' <=50K', ..., ' <=50K', ' <=50K', ' >50K'],\n",
       "      dtype=object)"
      ]
     },
     "execution_count": 91,
     "metadata": {},
     "output_type": "execute_result"
    }
   ],
   "source": [
    "y"
   ]
  },
  {
   "cell_type": "code",
   "execution_count": 92,
   "id": "ca7be2c2",
   "metadata": {},
   "outputs": [],
   "source": [
    "# CONVERTER OS VALORES CATEGORICOS EM NUMERICOS\n",
    "from sklearn.preprocessing import LabelEncoder"
   ]
  },
  {
   "cell_type": "code",
   "execution_count": 93,
   "id": "1a77481a",
   "metadata": {},
   "outputs": [],
   "source": [
    "# CRIACAO DE VARIAVEIS PARA CADA ATRIBUTO\n",
    "workclass = LabelEncoder()\n",
    "education = LabelEncoder()\n",
    "marital_status = LabelEncoder()\n",
    "occupation = LabelEncoder()\n",
    "relationship = LabelEncoder()\n",
    "race = LabelEncoder()\n",
    "sex = LabelEncoder()\n",
    "native_country = LabelEncoder()"
   ]
  },
  {
   "cell_type": "code",
   "execution_count": 94,
   "id": "96361ade",
   "metadata": {},
   "outputs": [],
   "source": [
    "X[:, 1] = workclass.fit_transform(X[:, 1])\n",
    "X[:, 3] = education.fit_transform(X[:, 3])\n",
    "X[:, 5] = marital_status.fit_transform(X[:, 5])\n",
    "X[:, 6] = occupation.fit_transform(X[:, 6])\n",
    "X[:, 7] = relationship.fit_transform(X[:, 7])\n",
    "X[:, 8] = race.fit_transform(X[:, 8])\n",
    "X[:, 9] = sex.fit_transform(X[:, 9])\n",
    "X[:, 13] = native_country.fit_transform(X[:, 13])"
   ]
  },
  {
   "cell_type": "code",
   "execution_count": 95,
   "id": "fbd6eaa0",
   "metadata": {},
   "outputs": [
    {
     "data": {
      "text/plain": [
       "array([[39, 7, 77516, ..., 0, 40, 39],\n",
       "       [50, 6, 83311, ..., 0, 13, 39],\n",
       "       [38, 4, 215646, ..., 0, 40, 39],\n",
       "       ...,\n",
       "       [58, 4, 151910, ..., 0, 40, 39],\n",
       "       [22, 4, 201490, ..., 0, 20, 39],\n",
       "       [52, 5, 287927, ..., 0, 40, 39]], dtype=object)"
      ]
     },
     "execution_count": 95,
     "metadata": {},
     "output_type": "execute_result"
    }
   ],
   "source": [
    "X"
   ]
  },
  {
   "cell_type": "code",
   "execution_count": 96,
   "id": "9518280d",
   "metadata": {},
   "outputs": [],
   "source": [
    "#ESCALONAMENTO DE ATRIBUTOS\n",
    "from sklearn.preprocessing import MinMaxScaler\n",
    "Scaler = MinMaxScaler()"
   ]
  },
  {
   "cell_type": "code",
   "execution_count": 97,
   "id": "28944e83",
   "metadata": {},
   "outputs": [
    {
     "data": {
      "text/plain": [
       "array([[0.30136986, 0.875     , 0.0443019 , ..., 0.        , 0.39795918,\n",
       "        0.95121951],\n",
       "       [0.45205479, 0.75      , 0.0482376 , ..., 0.        , 0.12244898,\n",
       "        0.95121951],\n",
       "       [0.28767123, 0.5       , 0.13811345, ..., 0.        , 0.39795918,\n",
       "        0.95121951],\n",
       "       ...,\n",
       "       [0.56164384, 0.5       , 0.09482688, ..., 0.        , 0.39795918,\n",
       "        0.95121951],\n",
       "       [0.06849315, 0.5       , 0.12849934, ..., 0.        , 0.19387755,\n",
       "        0.95121951],\n",
       "       [0.47945205, 0.625     , 0.18720338, ..., 0.        , 0.39795918,\n",
       "        0.95121951]])"
      ]
     },
     "execution_count": 97,
     "metadata": {},
     "output_type": "execute_result"
    }
   ],
   "source": [
    "X_scaler = Scaler.fit_transform(X)\n",
    "X_scaler"
   ]
  },
  {
   "cell_type": "markdown",
   "id": "7852cf5d",
   "metadata": {},
   "source": [
    "# TECNICA DE REDUCAO DE DIMENSIONALIDADE POR VARIANCIA"
   ]
  },
  {
   "cell_type": "code",
   "execution_count": 98,
   "id": "859f3f6a",
   "metadata": {},
   "outputs": [
    {
     "data": {
      "text/plain": [
       "(13.640223092304081, 0.034913808595952486)"
      ]
     },
     "execution_count": 98,
     "metadata": {},
     "output_type": "execute_result"
    }
   ],
   "source": [
    "# VISUALIZACAO DA VARIANCIA DOS VALORES REAIS E DOS ESCALONADOS\n",
    "np.sqrt(X[:, 0].var()), (X_scaler[:, 0].var())\n"
   ]
  },
  {
   "cell_type": "code",
   "execution_count": 99,
   "id": "59d0f75e",
   "metadata": {},
   "outputs": [
    {
     "name": "stdout",
     "output_type": "stream",
     "text": [
      "0.034913808595952486\n",
      "0.03312115190663569\n",
      "0.005138537590667898\n",
      "0.06657103564450892\n",
      "0.029416385024073417\n",
      "0.06301761677301636\n",
      "0.09123816653931152\n",
      "0.10326534394406342\n",
      "0.04502805169292987\n",
      "0.22136950173699113\n",
      "0.00545419549240862\n",
      "0.008557270623428908\n",
      "0.015874043397822807\n",
      "0.03641266114220053\n"
     ]
    }
   ],
   "source": [
    "for i in range(X.shape[1]):\n",
    "    print(X_scaler[:, i].var())"
   ]
  },
  {
   "cell_type": "code",
   "execution_count": 100,
   "id": "525221fa",
   "metadata": {},
   "outputs": [
    {
     "data": {
      "text/plain": [
       "VarianceThreshold(threshold=0.05)"
      ]
     },
     "execution_count": 100,
     "metadata": {},
     "output_type": "execute_result"
    }
   ],
   "source": [
    "# SELECIONAR UM DOS MENORES VALORES PARA UTILIZAR COMO PARAMETRO DA VARIANCIA\n",
    "from sklearn.feature_selection import VarianceThreshold\n",
    "selecao = VarianceThreshold(threshold = 0.05)\n",
    "selecao"
   ]
  },
  {
   "cell_type": "code",
   "execution_count": 101,
   "id": "9c5268dd",
   "metadata": {},
   "outputs": [
    {
     "data": {
      "text/plain": [
       "(32561, 5)"
      ]
     },
     "execution_count": 101,
     "metadata": {},
     "output_type": "execute_result"
    }
   ],
   "source": [
    "# TREINAMENTO PARA SELECAO DA COLUNA\n",
    "X_variance = selecao.fit_transform(X_scaler)\n",
    "X_variance.shape"
   ]
  },
  {
   "cell_type": "code",
   "execution_count": 102,
   "id": "b8b1b2d2",
   "metadata": {},
   "outputs": [
    {
     "data": {
      "text/plain": [
       "array([0.03491381, 0.03312115, 0.00513854, 0.06657104, 0.02941639,\n",
       "       0.06301762, 0.09123817, 0.10326534, 0.04502805, 0.2213695 ,\n",
       "       0.0054542 , 0.00855727, 0.01587404, 0.03641266])"
      ]
     },
     "execution_count": 102,
     "metadata": {},
     "output_type": "execute_result"
    }
   ],
   "source": [
    "# VISUALIZAR OS VALORES DA VARIANCIA\n",
    "selecao.variances_"
   ]
  },
  {
   "cell_type": "code",
   "execution_count": 103,
   "id": "5989c187",
   "metadata": {},
   "outputs": [
    {
     "data": {
      "text/plain": [
       "(array([3, 5, 6, 7, 9], dtype=int64),)"
      ]
     },
     "execution_count": 103,
     "metadata": {},
     "output_type": "execute_result"
    }
   ],
   "source": [
    "# VERIFICAR OS INDICES DOS ATRIBUTOS SELECIONADOS\n",
    "indices = np.where(selecao.variances_ > 0.05)\n",
    "indices"
   ]
  },
  {
   "cell_type": "code",
   "execution_count": 104,
   "id": "f2cd72b6",
   "metadata": {},
   "outputs": [
    {
     "data": {
      "text/plain": [
       "Index(['age', 'workclass', 'final-weight', 'education', 'education-num',\n",
       "       'marital-status', 'occupation', 'relationship', 'race', 'sex',\n",
       "       'capital-gain', 'capital-loos', 'hour-per-week', 'native-country'],\n",
       "      dtype='object')"
      ]
     },
     "execution_count": 104,
     "metadata": {},
     "output_type": "execute_result"
    }
   ],
   "source": [
    "colunas"
   ]
  },
  {
   "cell_type": "code",
   "execution_count": 105,
   "id": "ec699510",
   "metadata": {},
   "outputs": [
    {
     "data": {
      "text/plain": [
       "(32561, 6)"
      ]
     },
     "execution_count": 105,
     "metadata": {},
     "output_type": "execute_result"
    }
   ],
   "source": [
    "# ELIMINAR AS COLUNAS NAO SELECIONADAS PARA PREPROCESSAR APENAS AS COLUNAS SELECIONADAS\n",
    "X_variance = base.drop(columns=['age', 'workclass', 'final-weight', 'education-num','race', \n",
    "                                'capital-gain', 'capital-loos', 'hour-per-week', 'native-country'])\n",
    "X_variance.shape"
   ]
  },
  {
   "cell_type": "code",
   "execution_count": 106,
   "id": "bd9e06e0",
   "metadata": {},
   "outputs": [
    {
     "data": {
      "text/html": [
       "<div>\n",
       "<style scoped>\n",
       "    .dataframe tbody tr th:only-of-type {\n",
       "        vertical-align: middle;\n",
       "    }\n",
       "\n",
       "    .dataframe tbody tr th {\n",
       "        vertical-align: top;\n",
       "    }\n",
       "\n",
       "    .dataframe thead th {\n",
       "        text-align: right;\n",
       "    }\n",
       "</style>\n",
       "<table border=\"1\" class=\"dataframe\">\n",
       "  <thead>\n",
       "    <tr style=\"text-align: right;\">\n",
       "      <th></th>\n",
       "      <th>education</th>\n",
       "      <th>marital-status</th>\n",
       "      <th>occupation</th>\n",
       "      <th>relationship</th>\n",
       "      <th>sex</th>\n",
       "      <th>income</th>\n",
       "    </tr>\n",
       "  </thead>\n",
       "  <tbody>\n",
       "    <tr>\n",
       "      <th>0</th>\n",
       "      <td>Bachelors</td>\n",
       "      <td>Never-married</td>\n",
       "      <td>Adm-clerical</td>\n",
       "      <td>Not-in-family</td>\n",
       "      <td>Male</td>\n",
       "      <td>&lt;=50K</td>\n",
       "    </tr>\n",
       "    <tr>\n",
       "      <th>1</th>\n",
       "      <td>Bachelors</td>\n",
       "      <td>Married-civ-spouse</td>\n",
       "      <td>Exec-managerial</td>\n",
       "      <td>Husband</td>\n",
       "      <td>Male</td>\n",
       "      <td>&lt;=50K</td>\n",
       "    </tr>\n",
       "    <tr>\n",
       "      <th>2</th>\n",
       "      <td>HS-grad</td>\n",
       "      <td>Divorced</td>\n",
       "      <td>Handlers-cleaners</td>\n",
       "      <td>Not-in-family</td>\n",
       "      <td>Male</td>\n",
       "      <td>&lt;=50K</td>\n",
       "    </tr>\n",
       "    <tr>\n",
       "      <th>3</th>\n",
       "      <td>11th</td>\n",
       "      <td>Married-civ-spouse</td>\n",
       "      <td>Handlers-cleaners</td>\n",
       "      <td>Husband</td>\n",
       "      <td>Male</td>\n",
       "      <td>&lt;=50K</td>\n",
       "    </tr>\n",
       "    <tr>\n",
       "      <th>4</th>\n",
       "      <td>Bachelors</td>\n",
       "      <td>Married-civ-spouse</td>\n",
       "      <td>Prof-specialty</td>\n",
       "      <td>Wife</td>\n",
       "      <td>Female</td>\n",
       "      <td>&lt;=50K</td>\n",
       "    </tr>\n",
       "    <tr>\n",
       "      <th>...</th>\n",
       "      <td>...</td>\n",
       "      <td>...</td>\n",
       "      <td>...</td>\n",
       "      <td>...</td>\n",
       "      <td>...</td>\n",
       "      <td>...</td>\n",
       "    </tr>\n",
       "    <tr>\n",
       "      <th>32556</th>\n",
       "      <td>Assoc-acdm</td>\n",
       "      <td>Married-civ-spouse</td>\n",
       "      <td>Tech-support</td>\n",
       "      <td>Wife</td>\n",
       "      <td>Female</td>\n",
       "      <td>&lt;=50K</td>\n",
       "    </tr>\n",
       "    <tr>\n",
       "      <th>32557</th>\n",
       "      <td>HS-grad</td>\n",
       "      <td>Married-civ-spouse</td>\n",
       "      <td>Machine-op-inspct</td>\n",
       "      <td>Husband</td>\n",
       "      <td>Male</td>\n",
       "      <td>&gt;50K</td>\n",
       "    </tr>\n",
       "    <tr>\n",
       "      <th>32558</th>\n",
       "      <td>HS-grad</td>\n",
       "      <td>Widowed</td>\n",
       "      <td>Adm-clerical</td>\n",
       "      <td>Unmarried</td>\n",
       "      <td>Female</td>\n",
       "      <td>&lt;=50K</td>\n",
       "    </tr>\n",
       "    <tr>\n",
       "      <th>32559</th>\n",
       "      <td>HS-grad</td>\n",
       "      <td>Never-married</td>\n",
       "      <td>Adm-clerical</td>\n",
       "      <td>Own-child</td>\n",
       "      <td>Male</td>\n",
       "      <td>&lt;=50K</td>\n",
       "    </tr>\n",
       "    <tr>\n",
       "      <th>32560</th>\n",
       "      <td>HS-grad</td>\n",
       "      <td>Married-civ-spouse</td>\n",
       "      <td>Exec-managerial</td>\n",
       "      <td>Wife</td>\n",
       "      <td>Female</td>\n",
       "      <td>&gt;50K</td>\n",
       "    </tr>\n",
       "  </tbody>\n",
       "</table>\n",
       "<p>32561 rows × 6 columns</p>\n",
       "</div>"
      ],
      "text/plain": [
       "         education       marital-status          occupation    relationship  \\\n",
       "0        Bachelors        Never-married        Adm-clerical   Not-in-family   \n",
       "1        Bachelors   Married-civ-spouse     Exec-managerial         Husband   \n",
       "2          HS-grad             Divorced   Handlers-cleaners   Not-in-family   \n",
       "3             11th   Married-civ-spouse   Handlers-cleaners         Husband   \n",
       "4        Bachelors   Married-civ-spouse      Prof-specialty            Wife   \n",
       "...            ...                  ...                 ...             ...   \n",
       "32556   Assoc-acdm   Married-civ-spouse        Tech-support            Wife   \n",
       "32557      HS-grad   Married-civ-spouse   Machine-op-inspct         Husband   \n",
       "32558      HS-grad              Widowed        Adm-clerical       Unmarried   \n",
       "32559      HS-grad        Never-married        Adm-clerical       Own-child   \n",
       "32560      HS-grad   Married-civ-spouse     Exec-managerial            Wife   \n",
       "\n",
       "           sex  income  \n",
       "0         Male   <=50K  \n",
       "1         Male   <=50K  \n",
       "2         Male   <=50K  \n",
       "3         Male   <=50K  \n",
       "4       Female   <=50K  \n",
       "...        ...     ...  \n",
       "32556   Female   <=50K  \n",
       "32557     Male    >50K  \n",
       "32558   Female   <=50K  \n",
       "32559     Male   <=50K  \n",
       "32560   Female    >50K  \n",
       "\n",
       "[32561 rows x 6 columns]"
      ]
     },
     "execution_count": 106,
     "metadata": {},
     "output_type": "execute_result"
    }
   ],
   "source": [
    "X_variance"
   ]
  },
  {
   "cell_type": "code",
   "execution_count": 107,
   "id": "33c19932",
   "metadata": {},
   "outputs": [],
   "source": [
    "X_var = X_variance.iloc[:, 0:5].values\n",
    "y_var = X_variance.iloc[:, 5].values"
   ]
  },
  {
   "cell_type": "code",
   "execution_count": 108,
   "id": "66ae3e03",
   "metadata": {},
   "outputs": [
    {
     "data": {
      "text/plain": [
       "array([[' Bachelors', ' Never-married', ' Adm-clerical',\n",
       "        ' Not-in-family', ' Male'],\n",
       "       [' Bachelors', ' Married-civ-spouse', ' Exec-managerial',\n",
       "        ' Husband', ' Male'],\n",
       "       [' HS-grad', ' Divorced', ' Handlers-cleaners', ' Not-in-family',\n",
       "        ' Male'],\n",
       "       ...,\n",
       "       [' HS-grad', ' Widowed', ' Adm-clerical', ' Unmarried', ' Female'],\n",
       "       [' HS-grad', ' Never-married', ' Adm-clerical', ' Own-child',\n",
       "        ' Male'],\n",
       "       [' HS-grad', ' Married-civ-spouse', ' Exec-managerial', ' Wife',\n",
       "        ' Female']], dtype=object)"
      ]
     },
     "execution_count": 108,
     "metadata": {},
     "output_type": "execute_result"
    }
   ],
   "source": [
    "X_var"
   ]
  },
  {
   "cell_type": "code",
   "execution_count": 109,
   "id": "c2de99f5",
   "metadata": {},
   "outputs": [
    {
     "data": {
      "text/plain": [
       "array([' <=50K', ' <=50K', ' <=50K', ..., ' <=50K', ' <=50K', ' >50K'],\n",
       "      dtype=object)"
      ]
     },
     "execution_count": 109,
     "metadata": {},
     "output_type": "execute_result"
    }
   ],
   "source": [
    "y_var"
   ]
  },
  {
   "cell_type": "code",
   "execution_count": 110,
   "id": "9533adbb",
   "metadata": {},
   "outputs": [],
   "source": [
    "from sklearn.preprocessing import LabelEncoder"
   ]
  },
  {
   "cell_type": "code",
   "execution_count": 111,
   "id": "a8a1c3ae",
   "metadata": {},
   "outputs": [],
   "source": [
    "education = LabelEncoder()\n",
    "marital_status = LabelEncoder()\n",
    "occupation = LabelEncoder()\n",
    "relationship = LabelEncoder()\n",
    "sex = LabelEncoder()"
   ]
  },
  {
   "cell_type": "code",
   "execution_count": 112,
   "id": "8d8a4c7d",
   "metadata": {},
   "outputs": [],
   "source": [
    "X_var [:, 0] = education.fit_transform(X_var[:, 0])\n",
    "X_var [:, 1] = marital_status.fit_transform(X_var[:, 1])\n",
    "X_var [:, 2] = occupation.fit_transform(X_var[:, 2])\n",
    "X_var [:, 3] = relationship.fit_transform(X_var[:, 3])\n",
    "X_var [:, 4] = sex.fit_transform(X_var[:, 4])"
   ]
  },
  {
   "cell_type": "code",
   "execution_count": 113,
   "id": "e610948a",
   "metadata": {},
   "outputs": [
    {
     "data": {
      "text/plain": [
       "array([[9, 4, 1, 1, 1],\n",
       "       [9, 2, 4, 0, 1],\n",
       "       [11, 0, 6, 1, 1],\n",
       "       ...,\n",
       "       [11, 6, 1, 4, 0],\n",
       "       [11, 4, 1, 3, 1],\n",
       "       [11, 2, 4, 5, 0]], dtype=object)"
      ]
     },
     "execution_count": 113,
     "metadata": {},
     "output_type": "execute_result"
    }
   ],
   "source": [
    "X_var"
   ]
  },
  {
   "cell_type": "code",
   "execution_count": 114,
   "id": "f4366432",
   "metadata": {},
   "outputs": [
    {
     "data": {
      "text/plain": [
       "array([[0., 0., 0., ..., 0., 0., 1.],\n",
       "       [0., 0., 0., ..., 0., 0., 1.],\n",
       "       [0., 0., 0., ..., 0., 0., 1.],\n",
       "       ...,\n",
       "       [0., 0., 0., ..., 0., 1., 0.],\n",
       "       [0., 0., 0., ..., 0., 0., 1.],\n",
       "       [0., 0., 0., ..., 1., 1., 0.]])"
      ]
     },
     "execution_count": 114,
     "metadata": {},
     "output_type": "execute_result"
    }
   ],
   "source": [
    "# APLICACAO DO ONEHOTENCODER\n",
    "from sklearn.preprocessing import OneHotEncoder\n",
    "from sklearn.compose import ColumnTransformer\n",
    "onehotencoder = ColumnTransformer(transformers = [(\"OneHote\", OneHotEncoder(), [0, 1, 2, 3, 4])], remainder = 'passthrough')\n",
    "X_var = onehotencoder.fit_transform(X_var).toarray()\n",
    "X_var"
   ]
  },
  {
   "cell_type": "code",
   "execution_count": 115,
   "id": "62c703e8",
   "metadata": {},
   "outputs": [],
   "source": [
    "from sklearn.preprocessing import MinMaxScaler\n",
    "Scaler = MinMaxScaler()"
   ]
  },
  {
   "cell_type": "code",
   "execution_count": 116,
   "id": "a8a6401f",
   "metadata": {},
   "outputs": [
    {
     "data": {
      "text/plain": [
       "array([[0., 0., 0., ..., 0., 0., 1.],\n",
       "       [0., 0., 0., ..., 0., 0., 1.],\n",
       "       [0., 0., 0., ..., 0., 0., 1.],\n",
       "       ...,\n",
       "       [0., 0., 0., ..., 0., 1., 0.],\n",
       "       [0., 0., 0., ..., 0., 0., 1.],\n",
       "       [0., 0., 0., ..., 1., 1., 0.]])"
      ]
     },
     "execution_count": 116,
     "metadata": {},
     "output_type": "execute_result"
    }
   ],
   "source": [
    "X_v = Scaler.fit_transform(X_var)\n",
    "X_v"
   ]
  },
  {
   "cell_type": "code",
   "execution_count": 117,
   "id": "15f6223b",
   "metadata": {},
   "outputs": [
    {
     "data": {
      "text/plain": [
       "((22792, 46), (9769, 46), (22792,), (9769,))"
      ]
     },
     "execution_count": 117,
     "metadata": {},
     "output_type": "execute_result"
    }
   ],
   "source": [
    "from sklearn.model_selection import train_test_split\n",
    "X_train, X_test, y_train, y_test = train_test_split(X_v, y_var, test_size = 0.3, random_state = 0 )\n",
    "X_train.shape, X_test.shape, y_train.shape, y_test.shape"
   ]
  },
  {
   "cell_type": "code",
   "execution_count": 118,
   "id": "045df0c9",
   "metadata": {},
   "outputs": [
    {
     "data": {
      "text/plain": [
       "0.8195311700276384"
      ]
     },
     "execution_count": 118,
     "metadata": {},
     "output_type": "execute_result"
    }
   ],
   "source": [
    "from sklearn.tree import DecisionTreeClassifier\n",
    "Dt = DecisionTreeClassifier()\n",
    "Dt.fit(X_train, y_train)\n",
    "Dt.score(X_test, y_test)"
   ]
  },
  {
   "cell_type": "code",
   "execution_count": 119,
   "id": "901283ac",
   "metadata": {},
   "outputs": [
    {
     "data": {
      "text/plain": [
       "array([' <=50K', ' <=50K', ' >50K', ..., ' <=50K', ' <=50K', ' <=50K'],\n",
       "      dtype=object)"
      ]
     },
     "execution_count": 119,
     "metadata": {},
     "output_type": "execute_result"
    }
   ],
   "source": [
    "predit = Dt.predict(X_test)\n",
    "predit"
   ]
  },
  {
   "cell_type": "code",
   "execution_count": 120,
   "id": "43c0a651",
   "metadata": {},
   "outputs": [
    {
     "name": "stdout",
     "output_type": "stream",
     "text": [
      "              precision    recall  f1-score   support\n",
      "\n",
      "       <=50K       0.85      0.92      0.89      7407\n",
      "        >50K       0.67      0.50      0.57      2362\n",
      "\n",
      "    accuracy                           0.82      9769\n",
      "   macro avg       0.76      0.71      0.73      9769\n",
      "weighted avg       0.81      0.82      0.81      9769\n",
      "\n"
     ]
    }
   ],
   "source": [
    "from sklearn.metrics import classification_report\n",
    "print(classification_report(y_test, predit))"
   ]
  },
  {
   "cell_type": "code",
   "execution_count": 121,
   "id": "711c9f15",
   "metadata": {},
   "outputs": [
    {
     "data": {
      "text/plain": [
       "0.8195311700276384"
      ]
     },
     "execution_count": 121,
     "metadata": {},
     "output_type": "execute_result"
    },
    {
     "data": {
      "image/png": "[encoded data removed]",
      "text/plain": [
       "<Figure size 800x550 with 1 Axes>"
      ]
     },
     "metadata": {},
     "output_type": "display_data"
    }
   ],
   "source": [
    "from yellowbrick.classifier import ConfusionMatrix\n",
    "cm = ConfusionMatrix(Dt)\n",
    "cm.fit(X_train, y_train)\n",
    "cm.score(X_test, y_test)"
   ]
  },
  {
   "cell_type": "markdown",
   "id": "f30754e3",
   "metadata": {},
   "source": [
    "# EXTRA TREE\n",
    "* Um algoritmo para selecao de atributos e pode ser utilizado para classificacao taambem"
   ]
  },
  {
   "cell_type": "code",
   "execution_count": 122,
   "id": "a3f31a54",
   "metadata": {},
   "outputs": [],
   "source": [
    "# Importacao do algoritmo\n",
    "from sklearn.ensemble import ExtraTreesClassifier"
   ]
  },
  {
   "cell_type": "code",
   "execution_count": 123,
   "id": "917705cb",
   "metadata": {},
   "outputs": [
    {
     "data": {
      "text/plain": [
       "(32561, 14)"
      ]
     },
     "execution_count": 123,
     "metadata": {},
     "output_type": "execute_result"
    }
   ],
   "source": [
    "X_scaler.shape"
   ]
  },
  {
   "cell_type": "code",
   "execution_count": 124,
   "id": "19cd303e",
   "metadata": {},
   "outputs": [
    {
     "data": {
      "text/plain": [
       "ExtraTreesClassifier()"
      ]
     },
     "execution_count": 124,
     "metadata": {},
     "output_type": "execute_result"
    }
   ],
   "source": [
    "# CRIACAO DO CLASSIFICADOR OU SELECTOR\n",
    "seletor = ExtraTreesClassifier().fit(X_scaler, y)\n",
    "seletor"
   ]
  },
  {
   "cell_type": "code",
   "execution_count": 125,
   "id": "d5203ce0",
   "metadata": {},
   "outputs": [
    {
     "data": {
      "text/plain": [
       "array([0.15509508, 0.04456627, 0.1639536 , 0.03664982, 0.08961365,\n",
       "       0.06968441, 0.07521149, 0.09384527, 0.01479018, 0.02968195,\n",
       "       0.08537637, 0.02783627, 0.09629191, 0.01740373])"
      ]
     },
     "execution_count": 125,
     "metadata": {},
     "output_type": "execute_result"
    }
   ],
   "source": [
    "#VISUALIZACAO DE ATRIBUTOS IMPORTANTES #### O ATRIBUTO COM MAIOR VALOR EH O MAIS IMPORTANTE EX: 016428802\n",
    "importances = seletor.feature_importances_\n",
    "importances"
   ]
  },
  {
   "cell_type": "code",
   "execution_count": 126,
   "id": "faa7c04f",
   "metadata": {},
   "outputs": [
    {
     "data": {
      "text/plain": [
       "Index(['age', 'workclass', 'final-weight', 'education', 'education-num',\n",
       "       'marital-status', 'occupation', 'relationship', 'race', 'sex',\n",
       "       'capital-gain', 'capital-loos', 'hour-per-week', 'native-country'],\n",
       "      dtype='object')"
      ]
     },
     "execution_count": 126,
     "metadata": {},
     "output_type": "execute_result"
    }
   ],
   "source": [
    "colunas # LOCALIZACAO DOS ATRIBUTOS IMPORTANTES NAS COLUNAS"
   ]
  },
  {
   "cell_type": "code",
   "execution_count": 127,
   "id": "5de1211e",
   "metadata": {},
   "outputs": [
    {
     "data": {
      "text/plain": [
       "1.0"
      ]
     },
     "execution_count": 127,
     "metadata": {},
     "output_type": "execute_result"
    }
   ],
   "source": [
    "importances.sum() # SOMA DOS ATRIBUTOS IMPORTANTES"
   ]
  },
  {
   "cell_type": "code",
   "execution_count": 128,
   "id": "4cd41219",
   "metadata": {},
   "outputs": [
    {
     "data": {
      "text/plain": [
       "[0, 1, 2, 3, 4, 5, 6, 7, 9, 10, 12]"
      ]
     },
     "execution_count": 128,
     "metadata": {},
     "output_type": "execute_result"
    }
   ],
   "source": [
    "# INDEXACAO DOS ATRIBUTOS MAIS IMPORTANTES\n",
    "indices = []\n",
    "for i in range(len(importances)):\n",
    "    #print(i)\n",
    "    if importances[i] >= 0.029: # Intervalo dos atributos a serem selecionados\n",
    "        indices.append(i)\n",
    "indices # INDICES DOS ATRIBUTOS SELECIONADOS "
   ]
  },
  {
   "cell_type": "code",
   "execution_count": 129,
   "id": "718a476e",
   "metadata": {},
   "outputs": [
    {
     "data": {
      "text/plain": [
       "Index(['age', 'workclass', 'final-weight', 'education', 'education-num',\n",
       "       'marital-status', 'occupation', 'relationship', 'sex', 'capital-gain',\n",
       "       'hour-per-week'],\n",
       "      dtype='object')"
      ]
     },
     "execution_count": 129,
     "metadata": {},
     "output_type": "execute_result"
    }
   ],
   "source": [
    "#visualizacao dos atributos selecionados\n",
    "colunas[indices]"
   ]
  },
  {
   "cell_type": "code",
   "execution_count": 149,
   "id": "c6c47153",
   "metadata": {},
   "outputs": [
    {
     "data": {
      "text/plain": [
       "[0, 1, 2, 3, 4, 5, 6, 7, 9, 10, 12]"
      ]
     },
     "execution_count": 149,
     "metadata": {},
     "output_type": "execute_result"
    }
   ],
   "source": [
    "indices"
   ]
  },
  {
   "cell_type": "code",
   "execution_count": 168,
   "id": "dbf2c982",
   "metadata": {},
   "outputs": [
    {
     "data": {
      "text/plain": [
       "array([[39, ' State-gov', 77516, ..., ' Male', 2174, 40],\n",
       "       [50, ' Self-emp-not-inc', 83311, ..., ' Male', 0, 13],\n",
       "       [38, ' Private', 215646, ..., ' Male', 0, 40],\n",
       "       ...,\n",
       "       [58, ' Private', 151910, ..., ' Female', 0, 40],\n",
       "       [22, ' Private', 201490, ..., ' Male', 0, 20],\n",
       "       [52, ' Self-emp-inc', 287927, ..., ' Female', 15024, 40]],\n",
       "      dtype=object)"
      ]
     },
     "execution_count": 168,
     "metadata": {},
     "output_type": "execute_result"
    }
   ],
   "source": [
    "#CRIACAO DUM DATASET APENAS COM ATRIBUTOS SELECIONADOS no formato array atravez da funcao VALUES\n",
    "X_extraTree = base.iloc[:,indices].values\n",
    "X_extraTree"
   ]
  },
  {
   "cell_type": "code",
   "execution_count": 169,
   "id": "708b886b",
   "metadata": {},
   "outputs": [],
   "source": [
    "from sklearn.preprocessing import LabelEncoder\n",
    "workclass = LabelEncoder()\n",
    "education = LabelEncoder()\n",
    "marital_status = LabelEncoder()\n",
    "occupation = LabelEncoder()\n",
    "relationship = LabelEncoder()\n",
    "sex = LabelEncoder()"
   ]
  },
  {
   "cell_type": "code",
   "execution_count": 170,
   "id": "6cfbe59e",
   "metadata": {},
   "outputs": [],
   "source": [
    "X_extraTree[:, 1] = workclass.fit_transform(X_extraTree[:, 1])\n",
    "X_extraTree[:, 3] = education.fit_transform(X_extraTree[:, 3])\n",
    "X_extraTree[:, 5] = marital_status.fit_transform(X_extraTree[:, 5])\n",
    "X_extraTree[:, 6] = occupation.fit_transform(X_extraTree[:, 6])\n",
    "X_extraTree[:, 7] = relationship.fit_transform(X_extraTree[:, 7])\n",
    "X_extraTree[:, 8] = sex.fit_transform(X_extraTree[:, 8])"
   ]
  },
  {
   "cell_type": "code",
   "execution_count": 171,
   "id": "a7dc64c4",
   "metadata": {},
   "outputs": [
    {
     "data": {
      "text/plain": [
       "array([[0.0000e+00, 0.0000e+00, 0.0000e+00, ..., 1.0000e+00, 2.1740e+03,\n",
       "        4.0000e+01],\n",
       "       [0.0000e+00, 0.0000e+00, 0.0000e+00, ..., 1.0000e+00, 0.0000e+00,\n",
       "        1.3000e+01],\n",
       "       [0.0000e+00, 0.0000e+00, 0.0000e+00, ..., 1.0000e+00, 0.0000e+00,\n",
       "        4.0000e+01],\n",
       "       ...,\n",
       "       [0.0000e+00, 0.0000e+00, 0.0000e+00, ..., 0.0000e+00, 0.0000e+00,\n",
       "        4.0000e+01],\n",
       "       [0.0000e+00, 0.0000e+00, 0.0000e+00, ..., 1.0000e+00, 0.0000e+00,\n",
       "        2.0000e+01],\n",
       "       [0.0000e+00, 0.0000e+00, 0.0000e+00, ..., 0.0000e+00, 1.5024e+04,\n",
       "        4.0000e+01]])"
      ]
     },
     "execution_count": 171,
     "metadata": {},
     "output_type": "execute_result"
    }
   ],
   "source": [
    "from sklearn.preprocessing import OneHotEncoder\n",
    "from sklearn.compose import ColumnTransformer\n",
    "OneHotEncoder = ColumnTransformer(transformers = [('OneHot', OneHotEncoder(), [1, 3, 5, 6, 7])], remainder='passthrough')\n",
    "X_extraTree = OneHotEncoder.fit_transform(X_extraTree).toarray()\n",
    "X_extraTree"
   ]
  },
  {
   "cell_type": "code",
   "execution_count": 176,
   "id": "9c559105",
   "metadata": {},
   "outputs": [
    {
     "data": {
      "text/plain": [
       "(32561, 59)"
      ]
     },
     "execution_count": 176,
     "metadata": {},
     "output_type": "execute_result"
    }
   ],
   "source": [
    "Xe = X_extraTree\n",
    "Xe.shape"
   ]
  },
  {
   "cell_type": "code",
   "execution_count": 178,
   "id": "7206d9f5",
   "metadata": {},
   "outputs": [],
   "source": [
    "from sklearn.model_selection import train_test_split\n",
    "X_trn, X_teste, y_trn, y_teste = train_test_split(Xe, y, test_size = 0.3, random_state=0)"
   ]
  },
  {
   "cell_type": "code",
   "execution_count": 180,
   "id": "0fc38f19",
   "metadata": {},
   "outputs": [
    {
     "data": {
      "text/plain": [
       "0.8453270549698024"
      ]
     },
     "execution_count": 180,
     "metadata": {},
     "output_type": "execute_result"
    }
   ],
   "source": [
    "from sklearn.ensemble import RandomForestClassifier\n",
    "Rf = RandomForestClassifier()\n",
    "Rf.fit(X_trn, y_trn)\n",
    "Rf.score(X_teste, y_teste)"
   ]
  },
  {
   "cell_type": "code",
   "execution_count": 181,
   "id": "ade98bb8",
   "metadata": {},
   "outputs": [
    {
     "data": {
      "text/plain": [
       "array([' <=50K', ' <=50K', ' <=50K', ..., ' >50K', ' <=50K', ' <=50K'],\n",
       "      dtype=object)"
      ]
     },
     "execution_count": 181,
     "metadata": {},
     "output_type": "execute_result"
    }
   ],
   "source": [
    "prever = Rf.predict(X_teste)\n",
    "prever"
   ]
  },
  {
   "cell_type": "code",
   "execution_count": 187,
   "id": "fb531788",
   "metadata": {},
   "outputs": [
    {
     "name": "stdout",
     "output_type": "stream",
     "text": [
      "              precision    recall  f1-score   support\n",
      "\n",
      "       <=50K       0.92      0.88      0.90      7744\n",
      "        >50K       0.61      0.71      0.66      2025\n",
      "\n",
      "    accuracy                           0.85      9769\n",
      "   macro avg       0.76      0.80      0.78      9769\n",
      "weighted avg       0.86      0.85      0.85      9769\n",
      "\n"
     ]
    }
   ],
   "source": [
    "from sklearn.metrics import classification_report\n",
    "print(classification_report(prever, y_teste))"
   ]
  },
  {
   "cell_type": "code",
   "execution_count": 191,
   "id": "e39ec2f3",
   "metadata": {},
   "outputs": [
    {
     "data": {
      "image/png": "[encoded data removed]",
      "text/plain": [
       "<Figure size 800x550 with 1 Axes>"
      ]
     },
     "metadata": {},
     "output_type": "display_data"
    }
   ],
   "source": [
    "from yellowbrick.classifier import ConfusionMatrix\n",
    "cm = ConfusionMatrix(Rf)\n",
    "cm.fit(X_trn, y_trn)\n",
    "cm.score(X_teste, y_teste)\n",
    "cm.show();"
   ]
  },
  {
   "cell_type": "markdown",
   "id": "ca544ec5",
   "metadata": {},
   "source": [
    "# Conclusao: a reducao de atributos traz bom desempenho quando aplicado a dados com muitos atributos ou colunas"
   ]
  }
 ],
 "metadata": {
  "kernelspec": {
   "display_name": "Python 3 (ipykernel)",
   "language": "python",
   "name": "python3"
  },
  "language_info": {
   "codemirror_mode": {
    "name": "ipython",
    "version": 3
   },
   "file_extension": ".py",
   "mimetype": "text/x-python",
   "name": "python",
   "nbconvert_exporter": "python",
   "pygments_lexer": "ipython3",
   "version": "3.9.13"
  }
 },
 "nbformat": 4,
 "nbformat_minor": 5
}
