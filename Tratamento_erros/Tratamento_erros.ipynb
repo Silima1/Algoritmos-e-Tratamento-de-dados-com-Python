{
 "cells": [
  {
   "cell_type": "markdown",
   "id": "f4d7a25a",
   "metadata": {},
   "source": [
    "# Leitura e correcao de erros"
   ]
  },
  {
   "cell_type": "code",
   "execution_count": 1,
   "id": "30a44a39",
   "metadata": {},
   "outputs": [
    {
     "ename": "SyntaxError",
     "evalue": "cannot assign to literal (2494577841.py, line 1)",
     "output_type": "error",
     "traceback": [
      "\u001b[1;36m  File \u001b[1;32m\"C:\\Users\\leone\\AppData\\Local\\Temp\\ipykernel_9932\\2494577841.py\"\u001b[1;36m, line \u001b[1;32m1\u001b[0m\n\u001b[1;33m    12 = 10\u001b[0m\n\u001b[1;37m    ^\u001b[0m\n\u001b[1;31mSyntaxError\u001b[0m\u001b[1;31m:\u001b[0m cannot assign to literal\n"
     ]
    }
   ],
   "source": [
    "12 = 10 # ERRO DE SINTAXE PORQUE PYTHON NAO RECONHECE ESTE SINAL COMO DE IGUALIDADE"
   ]
  },
  {
   "cell_type": "code",
   "execution_count": 2,
   "id": "ae590e0d",
   "metadata": {},
   "outputs": [
    {
     "ename": "ZeroDivisionError",
     "evalue": "division by zero",
     "output_type": "error",
     "traceback": [
      "\u001b[1;31m---------------------------------------------------------------------------\u001b[0m",
      "\u001b[1;31mZeroDivisionError\u001b[0m                         Traceback (most recent call last)",
      "\u001b[1;32m~\\AppData\\Local\\Temp\\ipykernel_9932\\3627099327.py\u001b[0m in \u001b[0;36m<module>\u001b[1;34m\u001b[0m\n\u001b[1;32m----> 1\u001b[1;33m \u001b[1;36m2\u001b[0m\u001b[1;33m/\u001b[0m\u001b[1;36m0\u001b[0m\u001b[1;33m\u001b[0m\u001b[1;33m\u001b[0m\u001b[0m\n\u001b[0m",
      "\u001b[1;31mZeroDivisionError\u001b[0m: division by zero"
     ]
    }
   ],
   "source": [
    "2/0 # ERRO DE DIVISAO POR ZERO PORQUE NENHUM NUMERO EH DIVISIVEL POR ZERO"
   ]
  },
  {
   "cell_type": "code",
   "execution_count": 3,
   "id": "19735e4c",
   "metadata": {},
   "outputs": [
    {
     "ename": "TypeError",
     "evalue": "unsupported operand type(s) for -: 'int' and 'str'",
     "output_type": "error",
     "traceback": [
      "\u001b[1;31m---------------------------------------------------------------------------\u001b[0m",
      "\u001b[1;31mTypeError\u001b[0m                                 Traceback (most recent call last)",
      "\u001b[1;32m~\\AppData\\Local\\Temp\\ipykernel_9932\\91951069.py\u001b[0m in \u001b[0;36m<module>\u001b[1;34m\u001b[0m\n\u001b[1;32m----> 1\u001b[1;33m \u001b[1;36m2\u001b[0m \u001b[1;33m-\u001b[0m \u001b[1;34m\"sl\"\u001b[0m\u001b[1;33m\u001b[0m\u001b[1;33m\u001b[0m\u001b[0m\n\u001b[0m",
      "\u001b[1;31mTypeError\u001b[0m: unsupported operand type(s) for -: 'int' and 'str'"
     ]
    }
   ],
   "source": [
    "2 - \"sl\" # Erro de compatibilidade porque inteiros nao podem sem operados com str."
   ]
  },
  {
   "cell_type": "code",
   "execution_count": 4,
   "id": "d8d74aad",
   "metadata": {},
   "outputs": [
    {
     "ename": "SyntaxError",
     "evalue": "invalid syntax (3877951041.py, line 1)",
     "output_type": "error",
     "traceback": [
      "\u001b[1;36m  File \u001b[1;32m\"C:\\Users\\leone\\AppData\\Local\\Temp\\ipykernel_9932\\3877951041.py\"\u001b[1;36m, line \u001b[1;32m1\u001b[0m\n\u001b[1;33m    print(\" o seu nome e \" Leo)\u001b[0m\n\u001b[1;37m                           ^\u001b[0m\n\u001b[1;31mSyntaxError\u001b[0m\u001b[1;31m:\u001b[0m invalid syntax\n"
     ]
    }
   ],
   "source": [
    "print(\" o seu nome e \" Leo) # Erro de sintaxe porque Leo nao foi encontrado como variavel"
   ]
  },
  {
   "cell_type": "code",
   "execution_count": 5,
   "id": "ff94d1ae",
   "metadata": {},
   "outputs": [
    {
     "ename": "NameError",
     "evalue": "name 'datetime' is not defined",
     "output_type": "error",
     "traceback": [
      "\u001b[1;31m---------------------------------------------------------------------------\u001b[0m",
      "\u001b[1;31mNameError\u001b[0m                                 Traceback (most recent call last)",
      "\u001b[1;32m~\\AppData\\Local\\Temp\\ipykernel_9932\\1638096822.py\u001b[0m in \u001b[0;36m<module>\u001b[1;34m\u001b[0m\n\u001b[1;32m----> 1\u001b[1;33m \u001b[0mdatetime\u001b[0m\u001b[1;33m.\u001b[0m\u001b[0mdatetime\u001b[0m\u001b[1;33m.\u001b[0m\u001b[0mnow\u001b[0m\u001b[1;33m(\u001b[0m\u001b[1;33m)\u001b[0m\u001b[1;33m\u001b[0m\u001b[1;33m\u001b[0m\u001b[0m\n\u001b[0m",
      "\u001b[1;31mNameError\u001b[0m: name 'datetime' is not defined"
     ]
    }
   ],
   "source": [
    "datetime.datetime.now() # O modulo solicitado nao foi importado"
   ]
  },
  {
   "cell_type": "markdown",
   "id": "4fdad8db",
   "metadata": {},
   "source": [
    "# TRATAMENTO DE ERROS"
   ]
  },
  {
   "cell_type": "code",
   "execution_count": 7,
   "id": "d67bbac7",
   "metadata": {},
   "outputs": [
    {
     "name": "stdout",
     "output_type": "stream",
     "text": [
      "Digite o valor da temperatura em graus celsus: 32gc\n",
      "Valor invalido\n",
      "Digite o valor da temperatura em graus celsus: 40\n",
      "O tempo agora e: 40.0 oC\n"
     ]
    }
   ],
   "source": [
    "while True: # PERMITE DAR MAIS CHANCES AO UTILIZADOR CASO INTRODUZA UM VALOR INVALIDO\n",
    "    try: # EVITA QUE A MENSAGEM DO ERRO SEJA APRESENTADA NA TELA DO UTILIZADOR\n",
    "        tempo = float(input(\"Digite o valor da temperatura em graus celsus: \"))\n",
    "    except: # SE O VALOR FOR INVALIDADO VAI PARA CONDICAO A SEGUIR\n",
    "        print('Valor invalido') # MENSAGEM PARA UTILIZADOR\n",
    "    else:\n",
    "        print(f'O tempo agora e: {tempo} oC')\n",
    "        break # TERMINA O LOOP"
   ]
  },
  {
   "cell_type": "code",
   "execution_count": 12,
   "id": "270de332",
   "metadata": {},
   "outputs": [
    {
     "name": "stdout",
     "output_type": "stream",
     "text": [
      "Digite um numero inteiro: sdodo\n",
      "Digitou um valor errado\n",
      "Digite um numero inteiro: 23\n",
      "O valor digitado eh: 23\n"
     ]
    }
   ],
   "source": [
    "# DIFERENTES TIPOS DE ERROS E SEUS TRATAMENTO\n",
    "while True:\n",
    "    try:\n",
    "        p = int(input('Digite um numero inteiro: '))\n",
    "    except ValueError: # Mensagem tecnica\n",
    "        print('Digitou um valor errado') # Mensagem para utilizador\n",
    "        #break\n",
    "    else:\n",
    "        print(f'O valor digitado eh: {p}')\n",
    "        break"
   ]
  },
  {
   "cell_type": "markdown",
   "id": "623ac218",
   "metadata": {},
   "source": [
    "# Exercicio teste de erros"
   ]
  },
  {
   "cell_type": "code",
   "execution_count": 1,
   "id": "09bfc574",
   "metadata": {},
   "outputs": [
    {
     "name": "stdout",
     "output_type": "stream",
     "text": [
      " Digite o primerio valor: 10\n",
      "Digite o segundo valor: 10\n",
      " O resultado da divisao eh: [10.0, 10.0]\n"
     ]
    }
   ],
   "source": [
    "Lista = []\n",
    "while True:\n",
    "    try:\n",
    "        Lista.append(float(input(\" Digite o primerio valor: \")))\n",
    "        Lista.append(float(input(\"Digite o segundo valor: \")))\n",
    "        divisao = Lista[0]/Lista[1]\n",
    "    except ValueError:\n",
    "        print(\"Erro: Valor invalido\")\n",
    "    except IndexError:\n",
    "        print('Erro: Indexacao inexistente')\n",
    "    except ZeroDivisionError:\n",
    "        print('Erro: Divisao com zero')\n",
    "    except KeyboardInterrupt:\n",
    "        print('Erro: O utilizador interrompeu a execucao')\n",
    "    else:\n",
    "        print(f' O resultado da divisao eh: {Lista}')\n",
    "        break"
   ]
  },
  {
   "cell_type": "code",
   "execution_count": null,
   "id": "68ef1262",
   "metadata": {},
   "outputs": [],
   "source": []
  }
 ],
 "metadata": {
  "kernelspec": {
   "display_name": "Python 3 (ipykernel)",
   "language": "python",
   "name": "python3"
  },
  "language_info": {
   "codemirror_mode": {
    "name": "ipython",
    "version": 3
   },
   "file_extension": ".py",
   "mimetype": "text/x-python",
   "name": "python",
   "nbconvert_exporter": "python",
   "pygments_lexer": "ipython3",
   "version": "3.9.13"
  }
 },
 "nbformat": 4,
 "nbformat_minor": 5
}
